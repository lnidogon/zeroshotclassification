{
  "cells": [
    {
      "cell_type": "markdown",
      "metadata": {
        "id": "iq7U4gbgH2Gl"
      },
      "source": [
        "https://github.com/openai/CLIP/blob/dcba3cb2e2827b402d2701e7e1c7d9fed8a20ef1/notebooks/Prompt_Engineering_for_ImageNet.ipynb#L942\n",
        "https://arxiv.org/abs/2103.00020"
      ]
    },
    {
      "cell_type": "code",
      "execution_count": 1,
      "metadata": {
        "colab": {
          "base_uri": "https://localhost:8080/"
        },
        "id": "v2d4HN8-LS6s",
        "outputId": "691ff032-7c9c-4e52-c33a-d6c286fc9640"
      },
      "outputs": [
        {
          "name": "stdout",
          "output_type": "stream",
          "text": [
            "Requirement already satisfied: open_clip_torch in /home/lnidogon/miniconda3/envs/projektr/lib/python3.11/site-packages (2.30.0)\n",
            "Requirement already satisfied: torch>=1.9.0 in /home/lnidogon/miniconda3/envs/projektr/lib/python3.11/site-packages (from open_clip_torch) (2.5.1+cu118)\n",
            "Requirement already satisfied: torchvision in /home/lnidogon/miniconda3/envs/projektr/lib/python3.11/site-packages (from open_clip_torch) (0.20.1+cu118)\n",
            "Requirement already satisfied: regex in /home/lnidogon/miniconda3/envs/projektr/lib/python3.11/site-packages (from open_clip_torch) (2024.11.6)\n",
            "Requirement already satisfied: ftfy in /home/lnidogon/miniconda3/envs/projektr/lib/python3.11/site-packages (from open_clip_torch) (6.3.1)\n",
            "Requirement already satisfied: tqdm in /home/lnidogon/miniconda3/envs/projektr/lib/python3.11/site-packages (from open_clip_torch) (4.67.1)\n",
            "Requirement already satisfied: huggingface-hub in /home/lnidogon/miniconda3/envs/projektr/lib/python3.11/site-packages (from open_clip_torch) (0.27.1)\n",
            "Requirement already satisfied: safetensors in /home/lnidogon/miniconda3/envs/projektr/lib/python3.11/site-packages (from open_clip_torch) (0.5.2)\n",
            "Requirement already satisfied: timm in /home/lnidogon/miniconda3/envs/projektr/lib/python3.11/site-packages (from open_clip_torch) (1.0.13)\n",
            "Requirement already satisfied: filelock in /home/lnidogon/miniconda3/envs/projektr/lib/python3.11/site-packages (from torch>=1.9.0->open_clip_torch) (3.13.1)\n",
            "Requirement already satisfied: typing-extensions>=4.8.0 in /home/lnidogon/miniconda3/envs/projektr/lib/python3.11/site-packages (from torch>=1.9.0->open_clip_torch) (4.12.2)\n",
            "Requirement already satisfied: networkx in /home/lnidogon/miniconda3/envs/projektr/lib/python3.11/site-packages (from torch>=1.9.0->open_clip_torch) (3.2.1)\n",
            "Requirement already satisfied: jinja2 in /home/lnidogon/miniconda3/envs/projektr/lib/python3.11/site-packages (from torch>=1.9.0->open_clip_torch) (3.1.3)\n",
            "Requirement already satisfied: fsspec in /home/lnidogon/miniconda3/envs/projektr/lib/python3.11/site-packages (from torch>=1.9.0->open_clip_torch) (2024.2.0)\n",
            "Requirement already satisfied: nvidia-cuda-nvrtc-cu11==11.8.89 in /home/lnidogon/miniconda3/envs/projektr/lib/python3.11/site-packages (from torch>=1.9.0->open_clip_torch) (11.8.89)\n",
            "Requirement already satisfied: nvidia-cuda-runtime-cu11==11.8.89 in /home/lnidogon/miniconda3/envs/projektr/lib/python3.11/site-packages (from torch>=1.9.0->open_clip_torch) (11.8.89)\n",
            "Requirement already satisfied: nvidia-cuda-cupti-cu11==11.8.87 in /home/lnidogon/miniconda3/envs/projektr/lib/python3.11/site-packages (from torch>=1.9.0->open_clip_torch) (11.8.87)\n",
            "Requirement already satisfied: nvidia-cudnn-cu11==9.1.0.70 in /home/lnidogon/miniconda3/envs/projektr/lib/python3.11/site-packages (from torch>=1.9.0->open_clip_torch) (9.1.0.70)\n",
            "Requirement already satisfied: nvidia-cublas-cu11==11.11.3.6 in /home/lnidogon/miniconda3/envs/projektr/lib/python3.11/site-packages (from torch>=1.9.0->open_clip_torch) (11.11.3.6)\n",
            "Requirement already satisfied: nvidia-cufft-cu11==10.9.0.58 in /home/lnidogon/miniconda3/envs/projektr/lib/python3.11/site-packages (from torch>=1.9.0->open_clip_torch) (10.9.0.58)\n",
            "Requirement already satisfied: nvidia-curand-cu11==10.3.0.86 in /home/lnidogon/miniconda3/envs/projektr/lib/python3.11/site-packages (from torch>=1.9.0->open_clip_torch) (10.3.0.86)\n",
            "Requirement already satisfied: nvidia-cusolver-cu11==11.4.1.48 in /home/lnidogon/miniconda3/envs/projektr/lib/python3.11/site-packages (from torch>=1.9.0->open_clip_torch) (11.4.1.48)\n",
            "Requirement already satisfied: nvidia-cusparse-cu11==11.7.5.86 in /home/lnidogon/miniconda3/envs/projektr/lib/python3.11/site-packages (from torch>=1.9.0->open_clip_torch) (11.7.5.86)\n",
            "Requirement already satisfied: nvidia-nccl-cu11==2.21.5 in /home/lnidogon/miniconda3/envs/projektr/lib/python3.11/site-packages (from torch>=1.9.0->open_clip_torch) (2.21.5)\n",
            "Requirement already satisfied: nvidia-nvtx-cu11==11.8.86 in /home/lnidogon/miniconda3/envs/projektr/lib/python3.11/site-packages (from torch>=1.9.0->open_clip_torch) (11.8.86)\n",
            "Requirement already satisfied: triton==3.1.0 in /home/lnidogon/miniconda3/envs/projektr/lib/python3.11/site-packages (from torch>=1.9.0->open_clip_torch) (3.1.0)\n",
            "Requirement already satisfied: sympy==1.13.1 in /home/lnidogon/miniconda3/envs/projektr/lib/python3.11/site-packages (from torch>=1.9.0->open_clip_torch) (1.13.1)\n",
            "Requirement already satisfied: mpmath<1.4,>=1.1.0 in /home/lnidogon/miniconda3/envs/projektr/lib/python3.11/site-packages (from sympy==1.13.1->torch>=1.9.0->open_clip_torch) (1.3.0)\n",
            "Requirement already satisfied: wcwidth in /home/lnidogon/miniconda3/envs/projektr/lib/python3.11/site-packages (from ftfy->open_clip_torch) (0.2.13)\n",
            "Requirement already satisfied: packaging>=20.9 in /home/lnidogon/miniconda3/envs/projektr/lib/python3.11/site-packages (from huggingface-hub->open_clip_torch) (24.2)\n",
            "Requirement already satisfied: pyyaml>=5.1 in /home/lnidogon/miniconda3/envs/projektr/lib/python3.11/site-packages (from huggingface-hub->open_clip_torch) (6.0.2)\n",
            "Requirement already satisfied: requests in /home/lnidogon/miniconda3/envs/projektr/lib/python3.11/site-packages (from huggingface-hub->open_clip_torch) (2.32.3)\n",
            "Requirement already satisfied: numpy in /home/lnidogon/miniconda3/envs/projektr/lib/python3.11/site-packages (from torchvision->open_clip_torch) (1.26.3)\n",
            "Requirement already satisfied: pillow!=8.3.*,>=5.3.0 in /home/lnidogon/miniconda3/envs/projektr/lib/python3.11/site-packages (from torchvision->open_clip_torch) (10.2.0)\n",
            "Requirement already satisfied: MarkupSafe>=2.0 in /home/lnidogon/miniconda3/envs/projektr/lib/python3.11/site-packages (from jinja2->torch>=1.9.0->open_clip_torch) (2.1.5)\n",
            "Requirement already satisfied: charset-normalizer<4,>=2 in /home/lnidogon/miniconda3/envs/projektr/lib/python3.11/site-packages (from requests->huggingface-hub->open_clip_torch) (3.4.1)\n",
            "Requirement already satisfied: idna<4,>=2.5 in /home/lnidogon/miniconda3/envs/projektr/lib/python3.11/site-packages (from requests->huggingface-hub->open_clip_torch) (3.10)\n",
            "Requirement already satisfied: urllib3<3,>=1.21.1 in /home/lnidogon/miniconda3/envs/projektr/lib/python3.11/site-packages (from requests->huggingface-hub->open_clip_torch) (2.3.0)\n",
            "Requirement already satisfied: certifi>=2017.4.17 in /home/lnidogon/miniconda3/envs/projektr/lib/python3.11/site-packages (from requests->huggingface-hub->open_clip_torch) (2024.12.14)\n",
            "Note: you may need to restart the kernel to use updated packages.\n",
            "Requirement already satisfied: ftfy in /home/lnidogon/miniconda3/envs/projektr/lib/python3.11/site-packages (6.3.1)\n",
            "Requirement already satisfied: regex in /home/lnidogon/miniconda3/envs/projektr/lib/python3.11/site-packages (2024.11.6)\n",
            "Requirement already satisfied: tqdm in /home/lnidogon/miniconda3/envs/projektr/lib/python3.11/site-packages (4.67.1)\n",
            "Requirement already satisfied: wcwidth in /home/lnidogon/miniconda3/envs/projektr/lib/python3.11/site-packages (from ftfy) (0.2.13)\n",
            "Note: you may need to restart the kernel to use updated packages.\n",
            "Collecting git+https://github.com/openai/CLIP.git\n",
            "  Cloning https://github.com/openai/CLIP.git to /tmp/pip-req-build-uf7wdput\n",
            "  Running command git clone --filter=blob:none --quiet https://github.com/openai/CLIP.git /tmp/pip-req-build-uf7wdput\n",
            "  Resolved https://github.com/openai/CLIP.git to commit dcba3cb2e2827b402d2701e7e1c7d9fed8a20ef1\n",
            "  Preparing metadata (setup.py) ... \u001b[?25ldone\n",
            "\u001b[?25hRequirement already satisfied: ftfy in /home/lnidogon/miniconda3/envs/projektr/lib/python3.11/site-packages (from clip==1.0) (6.3.1)\n",
            "Requirement already satisfied: packaging in /home/lnidogon/miniconda3/envs/projektr/lib/python3.11/site-packages (from clip==1.0) (24.2)\n",
            "Requirement already satisfied: regex in /home/lnidogon/miniconda3/envs/projektr/lib/python3.11/site-packages (from clip==1.0) (2024.11.6)\n",
            "Requirement already satisfied: tqdm in /home/lnidogon/miniconda3/envs/projektr/lib/python3.11/site-packages (from clip==1.0) (4.67.1)\n",
            "Requirement already satisfied: torch in /home/lnidogon/miniconda3/envs/projektr/lib/python3.11/site-packages (from clip==1.0) (2.5.1+cu118)\n",
            "Requirement already satisfied: torchvision in /home/lnidogon/miniconda3/envs/projektr/lib/python3.11/site-packages (from clip==1.0) (0.20.1+cu118)\n",
            "Requirement already satisfied: wcwidth in /home/lnidogon/miniconda3/envs/projektr/lib/python3.11/site-packages (from ftfy->clip==1.0) (0.2.13)\n",
            "Requirement already satisfied: filelock in /home/lnidogon/miniconda3/envs/projektr/lib/python3.11/site-packages (from torch->clip==1.0) (3.13.1)\n",
            "Requirement already satisfied: typing-extensions>=4.8.0 in /home/lnidogon/miniconda3/envs/projektr/lib/python3.11/site-packages (from torch->clip==1.0) (4.12.2)\n",
            "Requirement already satisfied: networkx in /home/lnidogon/miniconda3/envs/projektr/lib/python3.11/site-packages (from torch->clip==1.0) (3.2.1)\n",
            "Requirement already satisfied: jinja2 in /home/lnidogon/miniconda3/envs/projektr/lib/python3.11/site-packages (from torch->clip==1.0) (3.1.3)\n",
            "Requirement already satisfied: fsspec in /home/lnidogon/miniconda3/envs/projektr/lib/python3.11/site-packages (from torch->clip==1.0) (2024.2.0)\n",
            "Requirement already satisfied: nvidia-cuda-nvrtc-cu11==11.8.89 in /home/lnidogon/miniconda3/envs/projektr/lib/python3.11/site-packages (from torch->clip==1.0) (11.8.89)\n",
            "Requirement already satisfied: nvidia-cuda-runtime-cu11==11.8.89 in /home/lnidogon/miniconda3/envs/projektr/lib/python3.11/site-packages (from torch->clip==1.0) (11.8.89)\n",
            "Requirement already satisfied: nvidia-cuda-cupti-cu11==11.8.87 in /home/lnidogon/miniconda3/envs/projektr/lib/python3.11/site-packages (from torch->clip==1.0) (11.8.87)\n",
            "Requirement already satisfied: nvidia-cudnn-cu11==9.1.0.70 in /home/lnidogon/miniconda3/envs/projektr/lib/python3.11/site-packages (from torch->clip==1.0) (9.1.0.70)\n",
            "Requirement already satisfied: nvidia-cublas-cu11==11.11.3.6 in /home/lnidogon/miniconda3/envs/projektr/lib/python3.11/site-packages (from torch->clip==1.0) (11.11.3.6)\n",
            "Requirement already satisfied: nvidia-cufft-cu11==10.9.0.58 in /home/lnidogon/miniconda3/envs/projektr/lib/python3.11/site-packages (from torch->clip==1.0) (10.9.0.58)\n",
            "Requirement already satisfied: nvidia-curand-cu11==10.3.0.86 in /home/lnidogon/miniconda3/envs/projektr/lib/python3.11/site-packages (from torch->clip==1.0) (10.3.0.86)\n",
            "Requirement already satisfied: nvidia-cusolver-cu11==11.4.1.48 in /home/lnidogon/miniconda3/envs/projektr/lib/python3.11/site-packages (from torch->clip==1.0) (11.4.1.48)\n",
            "Requirement already satisfied: nvidia-cusparse-cu11==11.7.5.86 in /home/lnidogon/miniconda3/envs/projektr/lib/python3.11/site-packages (from torch->clip==1.0) (11.7.5.86)\n",
            "Requirement already satisfied: nvidia-nccl-cu11==2.21.5 in /home/lnidogon/miniconda3/envs/projektr/lib/python3.11/site-packages (from torch->clip==1.0) (2.21.5)\n",
            "Requirement already satisfied: nvidia-nvtx-cu11==11.8.86 in /home/lnidogon/miniconda3/envs/projektr/lib/python3.11/site-packages (from torch->clip==1.0) (11.8.86)\n",
            "Requirement already satisfied: triton==3.1.0 in /home/lnidogon/miniconda3/envs/projektr/lib/python3.11/site-packages (from torch->clip==1.0) (3.1.0)\n",
            "Requirement already satisfied: sympy==1.13.1 in /home/lnidogon/miniconda3/envs/projektr/lib/python3.11/site-packages (from torch->clip==1.0) (1.13.1)\n",
            "Requirement already satisfied: mpmath<1.4,>=1.1.0 in /home/lnidogon/miniconda3/envs/projektr/lib/python3.11/site-packages (from sympy==1.13.1->torch->clip==1.0) (1.3.0)\n",
            "Requirement already satisfied: numpy in /home/lnidogon/miniconda3/envs/projektr/lib/python3.11/site-packages (from torchvision->clip==1.0) (1.26.3)\n",
            "Requirement already satisfied: pillow!=8.3.*,>=5.3.0 in /home/lnidogon/miniconda3/envs/projektr/lib/python3.11/site-packages (from torchvision->clip==1.0) (10.2.0)\n",
            "Requirement already satisfied: MarkupSafe>=2.0 in /home/lnidogon/miniconda3/envs/projektr/lib/python3.11/site-packages (from jinja2->torch->clip==1.0) (2.1.5)\n",
            "Note: you may need to restart the kernel to use updated packages.\n"
          ]
        },
        {
          "name": "stderr",
          "output_type": "stream",
          "text": [
            "/home/lnidogon/miniconda3/envs/projektr/lib/python3.11/site-packages/tqdm/auto.py:21: TqdmWarning: IProgress not found. Please update jupyter and ipywidgets. See https://ipywidgets.readthedocs.io/en/stable/user_install.html\n",
            "  from .autonotebook import tqdm as notebook_tqdm\n"
          ]
        }
      ],
      "source": [
        "%pip install open_clip_torch\n",
        "%pip install ftfy regex tqdm\n",
        "%pip install git+https://github.com/openai/CLIP.git\n",
        "import torch\n",
        "import clip\n",
        "from PIL import Image\n",
        "import os\n",
        "import open_clip\n",
        "import torch\n",
        "import torchvision\n",
        "import torchvision.transforms as transforms\n",
        "import numpy as np\n",
        "import torch\n",
        "import os\n",
        "import numpy as np\n",
        "from IPython.display import clear_output\n",
        "import time\n",
        "import clip\n",
        "import itertools\n"
      ]
    },
    {
      "cell_type": "code",
      "execution_count": 2,
      "metadata": {
        "id": "AZ_uLWMYRPet"
      },
      "outputs": [],
      "source": [
        "image_folder_path = \"images/\"\n",
        "#image_folder_path = \"images/\" #for testing locally"
      ]
    },
    {
      "cell_type": "code",
      "execution_count": 3,
      "metadata": {},
      "outputs": [],
      "source": [
        "torch.cuda.is_available()\n",
        "os.environ[\"CUDA_VISIBLE_DEVICES\"] = \"0\""
      ]
    },
    {
      "cell_type": "code",
      "execution_count": 4,
      "metadata": {
        "colab": {
          "base_uri": "https://localhost:8080/",
          "height": 260,
          "referenced_widgets": [
            "0d83686a4d8440ba9b24fd6d89c088ba",
            "1932056d78b74457b82dcd3f1596c447",
            "f68a61a1e5e34d7c85d4183e88459152",
            "c62fe47f72824196af390b44b168b073",
            "838cd28a54244baaa174bce206298f9c",
            "9d4444122d07465a99014199b9f359ed",
            "b05c32bd57164c24b3e833a92301bd21",
            "d64be04a71084125951a21b1fafe852d",
            "c3592de3ae5546a8ac2d0d87ac039f50",
            "4b7c48de718948289b0e018dba94ce3e",
            "5c3dc34448944b7da48fcdd30da6048c"
          ]
        },
        "id": "r8R23PRnLWTO",
        "outputId": "196c0faf-8127-401c-dfa3-9256e6aac452"
      },
      "outputs": [
        {
          "name": "stderr",
          "output_type": "stream",
          "text": [
            "/home/lnidogon/miniconda3/envs/projektr/lib/python3.11/site-packages/open_clip/factory.py:380: UserWarning: These pretrained weights were trained with QuickGELU activation but the model config does not have that enabled. Consider using a model config with a \"-quickgelu\" suffix or enable with a flag.\n",
            "  warnings.warn(\n"
          ]
        },
        {
          "name": "stdout",
          "output_type": "stream",
          "text": [
            "Label probs: [(0.00460777385160327, 'a dog'), (0.9950019717216492, 'a cat'), (0.0003902353346347809, 'a diagram')]\n",
            "Label probs: [(0.9982434511184692, 'a dog'), (0.0005877210642211139, 'a cat'), (0.0011688228696584702, 'a diagram')]\n",
            "Label probs: [(0.0014317580498754978, 'a dog'), (0.0005434340564534068, 'a cat'), (0.9980248212814331, 'a diagram')]\n"
          ]
        }
      ],
      "source": [
        "def analyise(image_name, options):\n",
        "  image = preprocess(Image.open(image_folder_path + image_name).resize((224, 224))).unsqueeze(0).to('cuda')\n",
        "  text = tokenizer(options).to('cuda')\n",
        "  with torch.no_grad(), torch.amp.autocast('cuda'):\n",
        "      image_features = model.encode_image(image).to('cuda')\n",
        "      text_features = model.encode_text(text).to('cuda')\n",
        "      image_features /= image_features.norm(dim=-1, keepdim=True)\n",
        "      text_features /= text_features.norm(dim=-1, keepdim=True)\n",
        "      text_probs = (100.0 * image_features @ text_features.T).softmax(dim=-1)\n",
        "  print(\"Label probs:\", list(zip(text_probs.tolist()[0], options)))\n",
        "  return text_probs.tolist()[0]\n",
        "\n",
        "def analyise2(image_name, text, path):\n",
        "  image = preprocess(Image.open(path + image_name).resize((224, 224))).unsqueeze(0).to('cuda')\n",
        "  with torch.no_grad(), torch.amp.autocast('cuda'):\n",
        "      image_features = model.encode_image(image).to('cuda')\n",
        "      text_features = model.encode_text(text).to('cuda')\n",
        "      image_features /= image_features.norm(dim=-1, keepdim=True)\n",
        "      text_features /= text_features.norm(dim=-1, keepdim=True)\n",
        "      text_probs = (100.0 * image_features @ text_features.T).softmax(dim=-1)\n",
        "  return text_probs.tolist()[0]\n",
        "\n",
        "\n",
        "def analyise2_no_resize(image_name, text, path):\n",
        "  image = preprocess(Image.open(path + image_name)).unsqueeze(0).to('cuda')\n",
        "  with torch.no_grad(), torch.amp.autocast('cuda'):\n",
        "      image_features = model.encode_image(image).to('cuda')\n",
        "      text_features = model.encode_text(text).to('cuda')\n",
        "      image_features /= image_features.norm(dim=-1, keepdim=True)\n",
        "      text_features /= text_features.norm(dim=-1, keepdim=True)\n",
        "      text_probs = (100.0 * image_features @ text_features.T).softmax(dim=-1)\n",
        "  return text_probs.tolist()[0]\n",
        "\n",
        "def analyise3(image, text):\n",
        "  image = preprocess(image).unsqueeze(0).to('cuda')\n",
        "  with torch.no_grad(), torch.amp.autocast('cuda'):\n",
        "      image_features = model.encode_image(image).to('cuda')\n",
        "      text_features = model.encode_text(text).to('cuda')\n",
        "      image_features /= image_features.norm(dim=-1, keepdim=True)\n",
        "      text_features /= text_features.norm(dim=-1, keepdim=True)\n",
        "      text_probs = (100.0 * image_features @ text_features.T).softmax(dim=-1)\n",
        "  return text_probs.tolist()[0]\n",
        "  print(\"Label probs:\", list(zip(text_probs.tolist()[0], options)))\n",
        "\n",
        "model, _, preprocess = open_clip.create_model_and_transforms('ViT-B-32', pretrained='openai')\n",
        "model = model.to('cuda')\n",
        "model.eval()\n",
        "tokenizer = open_clip.get_tokenizer('ViT-B-32')\n",
        "image_list = [\"cat.jpg\", \"dog.jpg\", \"diagram.jpg\"]\n",
        "for image_name in image_list:\n",
        "  analyise(image_name, [\"a dog\", \"a cat\", \"a diagram\"])\n"
      ]
    },
    {
      "cell_type": "markdown",
      "metadata": {
        "id": "1e0zhwxgagGy"
      },
      "source": [
        "**Sada ću probati klasifikaciju na različitim slikama koje meni zvuče zanimlijvo**"
      ]
    },
    {
      "cell_type": "markdown",
      "metadata": {
        "id": "HhpDI4lEe-fI"
      },
      "source": [
        "# **Slika borove šume**"
      ]
    },
    {
      "cell_type": "code",
      "execution_count": 6,
      "metadata": {
        "colab": {
          "base_uri": "https://localhost:8080/"
        },
        "id": "z-mI-repbkQX",
        "outputId": "0bca203f-919f-429a-e92b-2daf2342a109"
      },
      "outputs": [
        {
          "name": "stdout",
          "output_type": "stream",
          "text": [
            "Label probs: [(0.9440404176712036, 'pine forest'), (0.03082401119172573, 'forest'), (0.01099064014852047, 'woods'), (3.1047222819324816e-06, 'zagorje'), (0.01411226112395525, 'oak forest'), (9.268988833355252e-06, 'gravity falls'), (2.0245332052581944e-05, 'virovitica')]\n",
            "Label probs: [(0.5491234064102173, 'forest'), (0.19887931644916534, 'woods'), (5.6180990213761106e-05, 'zagorje'), (0.25140702724456787, 'oak forest'), (0.0001677254622336477, 'gravity falls'), (0.00036634609568864107, 'virovitica')]\n",
            "\n"
          ]
        }
      ],
      "source": [
        "analyise(\"pine_forest.jpg\", [\"pine forest\", \"forest\", \"woods\", \"zagorje\", \"oak forest\", \"gravity falls\", \"virovitica\"])\n",
        "analyise(\"pine_forest.jpg\", [\"forest\", \"woods\", \"zagorje\", \"oak forest\", \"gravity falls\", \"virovitica\"])\n",
        "print(\"\")"
      ]
    },
    {
      "cell_type": "markdown",
      "metadata": {
        "id": "vdx8CIHzeihF"
      },
      "source": [
        "Možemo vidjeti da kada je ponuđen točan odgovor (pine forest) sa sigurnošću ga izabire, ali kada ga nema najsigurniji je za forest što je također točno."
      ]
    },
    {
      "cell_type": "markdown",
      "metadata": {
        "id": "D7n_2_FIfFrI"
      },
      "source": [
        "# **Slika mravarice**"
      ]
    },
    {
      "cell_type": "code",
      "execution_count": 7,
      "metadata": {
        "colab": {
          "base_uri": "https://localhost:8080/"
        },
        "id": "T-5V7gChe876",
        "outputId": "ef153f55-f07c-48ad-b398-7dcfaf5a1b47"
      },
      "outputs": [
        {
          "name": "stdout",
          "output_type": "stream",
          "text": [
            "Label probs: [(0.047870539128780365, 'ant'), (0.00278639979660511, 'wingless wasp'), (0.006086056120693684, 'wasp'), (0.7971160411834717, 'velvet ant'), (0.1321747899055481, 'red ant'), (0.013931121677160263, 'fire ant'), (3.507559449644759e-05, 'cow killer')]\n",
            "Label probs: [(0.2362024039030075, 'ant'), (0.01374862901866436, 'wingless wasp'), (0.030029768124222755, 'wasp'), (0.6521757245063782, 'red ant'), (0.06767312437295914, 'fire ant'), (0.00017038648365996778, 'cow killer')]\n",
            "\n"
          ]
        }
      ],
      "source": [
        "analyise(\"velvet_ant.jpg\", [\"ant\", \"wingless wasp\", \"wasp\", \"velvet ant\", \"red ant\", \"fire ant\", \"cow killer\"])\n",
        "analyise(\"velvet_ant.jpg\", [\"ant\", \"wingless wasp\", \"wasp\", \"red ant\", \"fire ant\", \"cow killer\"])\n",
        "print(\"\")"
      ]
    },
    {
      "cell_type": "markdown",
      "metadata": {
        "id": "7B0ZIFwffhuM"
      },
      "source": [
        "Ovdje možemo vidjeti da točno prepoznaje kada je ponuđena opcija velvet ant, ali ne radi najbolje kada se makne opcije. I cow killer i wingless wasp su točne klasifikacije mravarice no svejedno odabire s najvećom sigurnošću opciju \"red ant\" što nije točno (iako istina je da je to najvjerojatniji opis koji bi netko neupoznat s mravaricama dao)"
      ]
    },
    {
      "cell_type": "markdown",
      "metadata": {
        "id": "I6E-iA6MgTbm"
      },
      "source": [
        "# **Slika Velike Gorice**"
      ]
    },
    {
      "cell_type": "code",
      "execution_count": 8,
      "metadata": {
        "colab": {
          "base_uri": "https://localhost:8080/"
        },
        "id": "2flXWYGQgYNp",
        "outputId": "66f75c55-e1a1-481b-8051-1fd615d53c48"
      },
      "outputs": [
        {
          "name": "stdout",
          "output_type": "stream",
          "text": [
            "Label probs: [(0.07352733612060547, 'velika gorica'), (0.034731850028038025, 'glavni grad Zagrebačke županije'), (0.8818590044975281, 'zagreb'), (0.0015023526502773166, 'velika mlaka'), (0.008379449136555195, 'metropola')]\n",
            "Label probs: [(0.0861009731888771, 'velika gorica'), (0.6070709824562073, 'sisak'), (0.14419199526309967, 'karlovac'), (0.01862064003944397, 'kopenhagen'), (0.13335579633712769, 'malmo'), (0.007523419335484505, 'tolouse'), (0.0031362276058644056, 'hrvatska')]\n",
            "\n"
          ]
        }
      ],
      "source": [
        "analyise(\"velika_gorica.jpg\", [\"velika gorica\", \"glavni grad Zagrebačke županije\", \"zagreb\", \"velika mlaka\", \"metropola\"])\n",
        "analyise(\"velika_gorica.jpg\", [\"velika gorica\", \"sisak\", \"karlovac\", \"kopenhagen\", \"malmo\", \"tolouse\", \"hrvatska\"])\n",
        "print(\"\")"
      ]
    },
    {
      "cell_type": "markdown",
      "metadata": {
        "id": "fdQuvZbGhStO"
      },
      "source": [
        "Za sliku Velike Gorice klasifica ju kao Zagreb, kada se ponude internacionalni gradovi i dalje ne prepoznaju goricu i klasificira je kao sisak"
      ]
    },
    {
      "cell_type": "markdown",
      "metadata": {
        "id": "E4L-1Hgkh4vl"
      },
      "source": [
        "# **Slika Oca Goriota**"
      ]
    },
    {
      "cell_type": "code",
      "execution_count": 9,
      "metadata": {
        "colab": {
          "base_uri": "https://localhost:8080/"
        },
        "id": "B4e-yTRkiEjq",
        "outputId": "7874edcd-22e4-4218-c976-60e3ccc7c32e"
      },
      "outputs": [
        {
          "name": "stdout",
          "output_type": "stream",
          "text": [
            "Label probs: [(0.40004169940948486, 'old goriot'), (0.07061155140399933, 'vautrin'), (0.0021322842221707106, 'mrs. voquer'), (0.13610734045505524, 'honore de balzac'), (0.33164623379707336, 'bach'), (0.05946088954806328, 'raskoljnjikov')]\n",
            "Label probs: [(0.41581836342811584, 'portrait of old goriot'), (0.07691866159439087, 'portrait of vautrin'), (0.005073335487395525, 'portrait of mrs. voquer'), (0.16540111601352692, 'portrait of honore de balzac'), (0.30421918630599976, 'portrait of bach'), (0.032569412142038345, 'portrait of raskoljnjikov')]\n",
            "\n"
          ]
        }
      ],
      "source": [
        "analyise(\"goriot.jpg\", [\"old goriot\", \"vautrin\", \"mrs. voquer\", \"honore de balzac\", \"bach\", \"raskoljnjikov\"])\n",
        "analyise(\"goriot.jpg\", [\"portrait of old goriot\", \"portrait of vautrin\", \"portrait of mrs. voquer\", \"portrait of honore de balzac\", \"portrait of bach\", \"portrait of raskoljnjikov\"])\n",
        "print(\"\")"
      ]
    },
    {
      "cell_type": "markdown",
      "metadata": {
        "id": "gw1rzOuVmimn"
      },
      "source": [
        "Vidimo da prepoznaje u obe situacije sliku oca goriota, ali ovdje je također bitno primijetiti da specificiranje da se radi o portretu dodatno povećava sigurnost."
      ]
    },
    {
      "cell_type": "markdown",
      "metadata": {
        "id": "T_-Ng6JcnE0O"
      },
      "source": [
        "# **Slika kipa Davida**"
      ]
    },
    {
      "cell_type": "code",
      "execution_count": 10,
      "metadata": {
        "colab": {
          "base_uri": "https://localhost:8080/"
        },
        "id": "kiXe5o0dnGj4",
        "outputId": "8498aea8-4e5b-4a90-d0c6-ac95a6ed98c4"
      },
      "outputs": [
        {
          "name": "stdout",
          "output_type": "stream",
          "text": [
            "Label probs: [(0.002925089094787836, 'david'), (0.8238182067871094, 'david statue'), (0.007469476200640202, 'moses statue'), (0.026071030646562576, 'petrarca statue'), (0.07905943691730499, 'dante statue'), (0.06061697006225586, 'boccacio statue'), (3.9813465264160186e-05, 'abraham lincoln')]\n",
            "Label probs: [(0.3307494521141052, 'david statue in italy'), (0.3205733597278595, 'david statue in rome'), (0.2829050123691559, 'david statue in florence'), (0.05233216658234596, 'david statue louvre'), (0.013440011069178581, 'david statue in london')]\n",
            "\n"
          ]
        }
      ],
      "source": [
        "analyise(\"david.jpg\", [\"david\", \"david statue\", \"moses statue\", \"petrarca statue\", \"dante statue\", \"boccacio statue\", \"abraham lincoln\"])\n",
        "analyise(\"david.jpg\", [\"david statue in italy\", \"david statue in rome\", \"david statue in florence\", \"david statue louvre\", \"david statue in london\"])\n",
        "print(\"\")"
      ]
    },
    {
      "cell_type": "markdown",
      "metadata": {
        "id": "1QiA5EE_nxJL"
      },
      "source": [
        "Sliku kipa Davida je dobro prepoznao te također i to da se nalazi u Firenci."
      ]
    },
    {
      "cell_type": "markdown",
      "metadata": {
        "id": "bHGjO5Lhn85L"
      },
      "source": [
        "# **Slika Kahoot pitanja**"
      ]
    },
    {
      "cell_type": "code",
      "execution_count": 19,
      "metadata": {
        "colab": {
          "base_uri": "https://localhost:8080/"
        },
        "id": "FgRJhB3ro30Z",
        "outputId": "17450a93-3547-425f-9d64-a94526a6136c"
      },
      "outputs": [
        {
          "name": "stdout",
          "output_type": "stream",
          "text": [
            "Label probs: [(0.2015543431043625, 'red answer is correct'), (0.14292344450950623, 'blue answer is correct'), (0.3885061740875244, 'yellow answer is correct'), (0.26701614260673523, 'green answer is correct')]\n",
            "Label probs: [(0.22071199119091034, 'red answer is not correct'), (0.1858581155538559, 'blue answer is not correct'), (0.3313279151916504, 'yellow answer is not correct'), (0.2621019780635834, 'green answer is not correct')]\n",
            "\n"
          ]
        }
      ],
      "source": [
        "analyise(\"kahoot.jpg\", [\"red answer is correct\", \"blue answer is correct\", \"yellow answer is correct\", \"green answer is correct\"])\n",
        "analyise(\"kahoot.jpg\", [\"red answer is not correct\", \"blue answer is not correct\", \"yellow answer is not correct\", \"green answer is not correct\"])\n",
        "print(\"\")"
      ]
    },
    {
      "cell_type": "markdown",
      "metadata": {
        "id": "RctnHm9hprat"
      },
      "source": [
        "Vidimo da CLIP ne može najbolje odgovoriti na ovakvo pitanje (točan odgovor je crveno)"
      ]
    },
    {
      "cell_type": "markdown",
      "metadata": {
        "id": "PBmJPBpUpvHx"
      },
      "source": [
        "# **Slika haljine s nepoznatim bojama**"
      ]
    },
    {
      "cell_type": "code",
      "execution_count": 21,
      "metadata": {
        "colab": {
          "base_uri": "https://localhost:8080/"
        },
        "id": "48yJVT1Kp1Yr",
        "outputId": "834b3ba4-cddc-49b0-9079-a513d79837dd"
      },
      "outputs": [
        {
          "name": "stdout",
          "output_type": "stream",
          "text": [
            "Label probs: [(0.4493926465511322, 'white and gold dress'), (0.5506073832511902, 'blue and black dress')]\n",
            "\n"
          ]
        }
      ],
      "source": [
        "analyise(\"multicolor_dress.jpg\", [\"white and gold dress\", \"blue and black dress\"])\n",
        "print(\"\")"
      ]
    },
    {
      "cell_type": "markdown",
      "metadata": {
        "id": "LEJrUUG-qF1X"
      },
      "source": [
        "Mislio sam da će možda biti blizu ali CLIP potvrđuje da je crno plav. Ovo je popularna slika oko čije boje postoji dvojba, CLIP je jako siguran da je plavo crna."
      ]
    },
    {
      "cell_type": "markdown",
      "metadata": {
        "id": "minWHqG9qNy_"
      },
      "source": [
        "# **Slika slike na kojoj nema ničega**"
      ]
    },
    {
      "cell_type": "code",
      "execution_count": 22,
      "metadata": {
        "colab": {
          "base_uri": "https://localhost:8080/"
        },
        "id": "Pmj1PyGXqVGA",
        "outputId": "9fca4f4d-2259-4992-8a50-cd12dfcbf82e"
      },
      "outputs": [
        {
          "name": "stdout",
          "output_type": "stream",
          "text": [
            "Label probs: [(0.3474450707435608, 'something'), (0.23144832253456116, 'nothing'), (0.012655685655772686, 'plushy'), (0.0663110539317131, 'shirt'), (0.003799925558269024, 'abacus'), (0.09954468160867691, 'paper towel'), (0.23879528045654297, 'a crumbled up shirt')]\n",
            "\n"
          ]
        }
      ],
      "source": [
        "analyise(\"name_one_thing.jpg\", [\"something\", \"nothing\", \"plushy\", \"shirt\", \"abacus\", \"paper towel\", \"a crumbled up shirt\"])\n",
        "print(\"\")"
      ]
    },
    {
      "cell_type": "markdown",
      "metadata": {
        "id": "CUq6Gae-qvLd"
      },
      "source": [
        "Zanimljiv rezultat jer prepoznaje nešto, ali također daje dosta veliku vjerojatnosti tome da ne vidi ništa."
      ]
    },
    {
      "cell_type": "markdown",
      "metadata": {
        "id": "P-DYkkj-rEal"
      },
      "source": [
        "# **Slika Mr. Beasta**"
      ]
    },
    {
      "cell_type": "code",
      "execution_count": 23,
      "metadata": {
        "colab": {
          "base_uri": "https://localhost:8080/"
        },
        "id": "0Imqdo0trKkJ",
        "outputId": "1304fb12-648d-4a47-b48a-b503b495818e"
      },
      "outputs": [
        {
          "name": "stdout",
          "output_type": "stream",
          "text": [
            "Label probs: [(0.9900130033493042, 'mr beast'), (0.0004539437941275537, 'smile'), (0.0003822590224444866, 'millionare'), (0.002492642030119896, 'billionare'), (0.004045956768095493, 'pewdiepie'), (0.0026122662238776684, 'logan paul')]\n",
            "Label probs: [(0.0034763291478157043, 'picture of a millionaire'), (0.0014951504999771714, 'picture of a youtuber'), (0.9944868683815002, 'picture of mr beast'), (0.0002898481616284698, 'picture of an athlete'), (0.00025182441459037364, 'picture of a mechanic')]\n",
            "\n"
          ]
        }
      ],
      "source": [
        "analyise(\"mr_beast.jpg\", [\"mr beast\", \"smile\", \"millionare\", \"billionare\", \"pewdiepie\", \"logan paul\"])\n",
        "analyise(\"mr_beast.jpg\", [\"picture of a millionaire\", \"picture of a youtuber\", \"picture of mr beast\", \"picture of an athlete\", \"picture of a mechanic\"])\n",
        "print(\"\")"
      ]
    },
    {
      "cell_type": "markdown",
      "metadata": {
        "id": "Cwc2_RJFsBCV"
      },
      "source": [
        "Vidimo da je Mr Beast jako dobro prepoznan"
      ]
    },
    {
      "cell_type": "markdown",
      "metadata": {
        "id": "EKWcYZI2uKBI"
      },
      "source": [
        "# **Drugi modeli?**"
      ]
    },
    {
      "cell_type": "code",
      "execution_count": 24,
      "metadata": {
        "colab": {
          "base_uri": "https://localhost:8080/",
          "height": 208,
          "referenced_widgets": [
            "d05e2a6ade68417191a3343dbd0dc5a8",
            "aec4cf304bd34a849f111083f69a78e2",
            "f5a5359b4e8548978e560d5b5380245a",
            "2f12eef3f55b4e2a98e9101aa92d2d8b",
            "f037b85e886949e1b314ca31a1d6072e",
            "9a42202b462040eea569fa503bdca6f5",
            "f864dffb33ba42b0ac3719a2c4f9727d",
            "059866ebe96d4544b6f8f4182c75a002",
            "aa0f36b509b5437daf8e6ef636693d77",
            "62562a65c44449faa65e77a085283f1f",
            "558cdf396f894eac8cc8688b15d38d0f"
          ]
        },
        "id": "OHZ-HqLVuPEy",
        "outputId": "d5e52077-68c1-49a7-c5eb-ba0787a100da"
      },
      "outputs": [
        {
          "name": "stdout",
          "output_type": "stream",
          "text": [
            "Label probs: [(0.004700520075857639, 'ant'), (0.001188477617688477, 'wingless wasp'), (2.3907168724690564e-05, 'wasp'), (0.98380047082901, 'velvet ant'), (0.009060489013791084, 'red ant'), (0.0012262039817869663, 'fire ant'), (2.6037005884660402e-09, 'cow killer')]\n",
            "Label probs: [(0.29016271233558655, 'ant'), (0.07336461544036865, 'wingless wasp'), (0.0014757876051589847, 'wasp'), (0.5593032240867615, 'red ant'), (0.07569346576929092, 'fire ant'), (1.607262021252609e-07, 'cow killer')]\n",
            "\n"
          ]
        }
      ],
      "source": [
        "model, _, preprocess = open_clip.create_model_and_transforms('convnext_base_w', pretrained='laion2b_s13b_b82k')\n",
        "model.eval()\n",
        "model.to('cuda')\n",
        "tokenizer = open_clip.get_tokenizer('convnext_base_w')\n",
        "analyise(\"velvet_ant.jpg\", [\"ant\", \"wingless wasp\", \"wasp\", \"velvet ant\", \"red ant\", \"fire ant\", \"cow killer\"])\n",
        "analyise(\"velvet_ant.jpg\", [\"ant\", \"wingless wasp\", \"wasp\", \"red ant\", \"fire ant\", \"cow killer\"])\n",
        "print(\"\")\n"
      ]
    },
    {
      "cell_type": "markdown",
      "metadata": {
        "id": "cn_fN9WlwbT5"
      },
      "source": [
        "Vidimo da ovaj model koji je predtreniran na manjem datasetu ima također \"netočnije\" rezultate."
      ]
    },
    {
      "cell_type": "code",
      "execution_count": 26,
      "metadata": {
        "colab": {
          "base_uri": "https://localhost:8080/",
          "height": 240,
          "referenced_widgets": [
            "39a8d1964e6545f890778718f49bc7fb",
            "66b8e1ec8d03496db2efe30ad799b78a",
            "7f08c9f203b34d188550532664199f37",
            "3287e5cd2b424d52829c1f8c6dcbea6a",
            "3fe50e6f1c1d4f26aaeec715497d5dbf",
            "b75bd4db343549f0829cc0f713237087",
            "9bf831e0e5634e2095d25827939c5641",
            "87ab896804fd490080d503e53e15d947",
            "0708883803054e9d9b603153700953ce",
            "83f3c0e22dbd490d8239f59da593ab47",
            "a5042b61b56247c3a7a5019ab2fe9afa",
            "60f16e6ec96e4749beee80c04954fd9b",
            "a548d037a0484ed9a428cddf8b5b4f69",
            "8924fead90ba4d59b7bd4273c20b1134",
            "58f481e436c34d18a1eebd24e0343cb0",
            "11d56fefabc34a198b7eb0de3bbaab0f",
            "ded9a7149ab14973af2aa75c1aeb31ad",
            "8435e0846c5444a0b57e921e24470dc9",
            "eea069233b0f4c71b0309ca5a940dfa6",
            "890f682cf3f347d58f716526846f9e8a",
            "2cb4a352f4374142bca153f2f7f3e12a",
            "f3110d5594dd489ab5fccebac96e32a7"
          ]
        },
        "id": "qt_JPlABwqWb",
        "outputId": "007f2a9c-49e0-4bf3-caf1-00cacb32523b"
      },
      "outputs": [
        {
          "name": "stdout",
          "output_type": "stream",
          "text": [
            "Label probs: [(1.3419023161986843e-05, 'ant'), (5.3909043344901875e-05, 'wingless wasp'), (3.866630322590936e-07, 'wasp'), (0.9999127388000488, 'velvet ant'), (1.696323488431517e-05, 'red ant'), (2.6013963179138955e-06, 'fire ant'), (4.0182593363802255e-11, 'cow killer')]\n",
            "Label probs: [(0.1517259031534195, 'ant'), (0.619136393070221, 'wingless wasp'), (0.004440760239958763, 'wasp'), (0.19481991231441498, 'red ant'), (0.029876600950956345, 'fire ant'), (4.6149037302711804e-07, 'cow killer')]\n",
            "\n"
          ]
        }
      ],
      "source": [
        "model, preprocess = open_clip.create_model_from_pretrained('hf-hub:apple/DFN5B-CLIP-ViT-H-14-384')\n",
        "tokenizer = open_clip.get_tokenizer('ViT-H-14')\n",
        "model.eval()\n",
        "model.to('cuda')\n",
        "analyise(\"velvet_ant.jpg\", [\"ant\", \"wingless wasp\", \"wasp\", \"velvet ant\", \"red ant\", \"fire ant\", \"cow killer\"])\n",
        "analyise(\"velvet_ant.jpg\", [\"ant\", \"wingless wasp\", \"wasp\", \"red ant\", \"fire ant\", \"cow killer\"])\n",
        "print(\"\")"
      ]
    },
    {
      "cell_type": "markdown",
      "metadata": {
        "id": "ApGK18bMF2Zq"
      },
      "source": [
        "Ovaj model koji je predtreniran na značajno većem datasetu jako sigurno prepoznaje da se radi o slici mravarice te također prepoznaje da se radi o vrsti beskrile ose."
      ]
    },
    {
      "cell_type": "markdown",
      "metadata": {
        "id": "Kh7x0IltF83G"
      },
      "source": [
        "# **Zaključci:**\n",
        "Klasifikacijski modeli dobro prepoznaju objekte koji se mogu opisati, npr. mravarica ili boje, može se primijetiti da apstraktnije pojmove poput točnog odgovora na kahoot kvizu ne može dobro prepoznati. Također kao i očekivano modeli koji su trenirani na većim datasetovima bolje i sigurnije odlučuju te posjeduju veću moć prepoznavanja apstraktnijih pojmova poput alternativnih naziva."
      ]
    },
    {
      "cell_type": "code",
      "execution_count": 6,
      "metadata": {
        "id": "FHeTy5yf_kSG"
      },
      "outputs": [],
      "source": [
        "import torch\n",
        "import os\n",
        "import numpy as np\n",
        "from IPython.display import clear_output\n",
        "\n",
        "model, preprocess = clip.load(\"ViT-B/32\")\n",
        "model.to('cuda')\n",
        "model.eval()\n",
        "tokenizer = open_clip.get_tokenizer('ViT-B-32')\n",
        "dataset_folder_path = \"CUB_200_2011/CUB_200_2011/\"\n",
        "f = open(dataset_folder_path + \"classes.txt\")\n",
        "s = f.read()\n",
        "class_names = [x.split(' ')[1] for x in s.split('\\n')[:-1]]\n",
        "def analyiseData(n):\n",
        "  correct_answer = 0\n",
        "  correct_classifications = 0\n",
        "  incorrect_classifications = 0\n",
        "  text = tokenizer(class_names).to('cuda')\n",
        "  for class_name in class_names:\n",
        "    arr = os.listdir(os.path.join(dataset_folder_path, \"images\", class_name))\n",
        "    m = 0\n",
        "    for image_name in arr:\n",
        "      m += 1\n",
        "      print(\"Currently classifying \" + image_name, \"  Done: \", (correct_classifications + incorrect_classifications), \"/\", n * len(class_names))\n",
        "      values = np.array(analyise2_no_resize(image_name, text, dataset_folder_path +  \"images/\" + class_name + \"/\"))\n",
        "      #print(list(zip(class_names, values)))\n",
        "      if np.argmax(values) == correct_answer:\n",
        "          correct_classifications += 1\n",
        "      else:\n",
        "          incorrect_classifications += 1\n",
        "      clear_output(wait=True)\n",
        "      if n == m:\n",
        "        break\n",
        "    #print(correct_answers)\n",
        "    #print(incorrect_answers)\n",
        "    correct_answer += 1\n",
        "  print(\"Accuracy on \", n, \" images from every class: \", correct_classifications/(correct_classifications + incorrect_classifications))"
      ]
    },
    {
      "cell_type": "code",
      "execution_count": 13,
      "metadata": {
        "colab": {
          "base_uri": "https://localhost:8080/"
        },
        "id": "kifDtKUoP2LI",
        "outputId": "46e5118e-2d46-482c-aea2-f03a487ca6bc"
      },
      "outputs": [
        {
          "name": "stdout",
          "output_type": "stream",
          "text": [
            "Accuracy on  1  images from every class:  0.45\n"
          ]
        }
      ],
      "source": [
        "analyiseData(1)"
      ]
    },
    {
      "cell_type": "markdown",
      "metadata": {
        "id": "-VVyPqIhsR2B"
      },
      "source": [
        "Pokrenut je test na 200 različitih slika i accuracy dobiven je 45%"
      ]
    },
    {
      "cell_type": "code",
      "execution_count": 15,
      "metadata": {
        "colab": {
          "base_uri": "https://localhost:8080/",
          "height": 304
        },
        "id": "FL_gI8gXRG3P",
        "outputId": "d12a71a2-61c4-49c0-aec6-5f1835e0518f"
      },
      "outputs": [
        {
          "name": "stdout",
          "output_type": "stream",
          "text": [
            "Accuracy on  -1  images from every class:  0.3951476077366814\n"
          ]
        }
      ],
      "source": [
        "analyiseData(-1)"
      ]
    },
    {
      "cell_type": "markdown",
      "metadata": {},
      "source": [
        "Accuracy na cijelom datasetu je 39.51%"
      ]
    },
    {
      "cell_type": "code",
      "execution_count": 16,
      "metadata": {
        "colab": {
          "base_uri": "https://localhost:8080/"
        },
        "id": "dikZw4nJMi0t",
        "outputId": "0e81b525-724e-474d-b1ee-fde7d8531360"
      },
      "outputs": [],
      "source": [
        "\n",
        "model, preprocess = clip.load(\"ViT-B/32\")\n",
        "model.to('cuda')\n",
        "model.eval()\n",
        "tokenizer = open_clip.get_tokenizer('ViT-B-32')\n",
        "dataset_folder_path = \"archive/test/\"\n",
        "class_names = [\n",
        "    ['surprised', 'shocked', 'spooked'],\n",
        "    ['angry'],\n",
        "    ['fearful'],\n",
        "    ['happy', 'smiling'],\n",
        "    ['neutral', 'bored'],\n",
        "    ['sad', 'depressed'],\n",
        "    ['disgusted'],\n",
        "]\n",
        "directory_names = ['surprise', 'angry', 'fear', 'happy', 'neutral', 'sad', 'disgust']\n",
        "templates = [\n",
        "    'a photo of a {} looking face.',\n",
        "    'a photo of a face showing the emotion: {}.',\n",
        "    'a photo of a face looking {}.',\n",
        "    'a face that looks {}.',\n",
        "    'they look {}.',\n",
        "    'look at how {} they are.',\n",
        "]\n",
        "\n",
        "flat_class_names = list(itertools.chain.from_iterable(class_names))\n",
        "\n",
        "\n",
        "\n",
        "formatted_output = []\n",
        "for emotion in flat_class_names:\n",
        "  for template in templates:\n",
        "    formatted_output.append(template.format(emotion))\n",
        "\n",
        "all_templates = formatted_output\n",
        "\n",
        "\n",
        "class_value = []\n",
        "for i in range(len(class_names)):\n",
        "  class_value.append([i] * len(class_names[i]) * len(templates))\n",
        "class_value = list(itertools.chain.from_iterable(class_value))\n",
        "\n",
        "\n",
        "def analyiseData2(n):\n",
        "  confusion_matrix = np.zeros((len(class_names), len(class_names)))\n",
        "  correct_answer = 0\n",
        "  correct_classifications = 0\n",
        "  incorrect_classifications = 0\n",
        "  text = tokenizer(all_templates).to('cuda')\n",
        "  for class_name in directory_names:\n",
        "    m = 0\n",
        "    arr = os.listdir(os.path.join(dataset_folder_path, class_name))\n",
        "    for image_name in arr:\n",
        "      m += 1\n",
        "      values = np.array(analyise2(image_name, text, dataset_folder_path + class_name + \"/\"))\n",
        "      # print(values)\n",
        "      # print(\"Actual prediction: \", np.argmax(values))\n",
        "      # print(\"Predicted: \", class_value[np.argmax(values)])\n",
        "      # print(\"Correct: \", correct_answer)\n",
        "      # time.sleep(2)\n",
        "      #print(list(zip(class_names, values)))\n",
        "      if class_value[np.argmax(values)] == correct_answer:\n",
        "          correct_classifications += 1\n",
        "      else:\n",
        "          incorrect_classifications += 1\n",
        "      print(\"Currently classifying \" + image_name, \"  Done: \", (correct_classifications + incorrect_classifications), \"/\", n * len(class_names), \" Current accuracy: \", correct_classifications/(correct_classifications + incorrect_classifications))\n",
        "      confusion_matrix[correct_answer][class_value[np.argmax(values)]] += 1\n",
        "      clear_output(wait=True)\n",
        "      if n == m:\n",
        "        break\n",
        "    #print(correct_answers)\n",
        "    #print(incorrect_answers)\n",
        "    correct_answer += 1\n",
        "  print(\"Accuracy on \", n, \" images from every class: \", correct_classifications/(correct_classifications + incorrect_classifications))\n",
        "  print(confusion_matrix)"
      ]
    },
    {
      "cell_type": "code",
      "execution_count": 24,
      "metadata": {
        "colab": {
          "base_uri": "https://localhost:8080/"
        },
        "id": "0BhH1_CriqQp",
        "outputId": "1c66163b-6711-46ea-b8d1-c37385e3176a"
      },
      "outputs": [
        {
          "name": "stdout",
          "output_type": "stream",
          "text": [
            "Accuracy on  100  images from every class:  0.38285714285714284\n",
            "[[89.  1.  2.  6.  1.  1.  0.]\n",
            " [31. 23. 29.  2.  4. 11.  0.]\n",
            " [36.  6. 18.  2.  6. 32.  0.]\n",
            " [12.  0.  5. 75.  4.  4.  0.]\n",
            " [27.  2. 26.  5. 16. 24.  0.]\n",
            " [24.  7. 11.  3.  8. 47.  0.]\n",
            " [40. 28. 12.  6.  9.  5.  0.]]\n"
          ]
        }
      ],
      "source": [
        "analyiseData2(100)"
      ]
    },
    {
      "cell_type": "code",
      "execution_count": null,
      "metadata": {
        "colab": {
          "base_uri": "https://localhost:8080/"
        },
        "id": "YrSYFDIMnYEr",
        "outputId": "acb0ad5b-8a20-4f4d-8f89-9f9ff20664ea"
      },
      "outputs": [
        {
          "name": "stdout",
          "output_type": "stream",
          "text": [
            "Accuracy on  -1  images from every class:  0.4449847179772159\n",
            "[[7.220e+02 9.000e+00 3.200e+01 6.600e+01 1.000e+01 1.200e+01 0.000e+00]\n",
            " [3.260e+02 2.440e+02 1.950e+02 4.900e+01 3.600e+01 1.070e+02 1.000e+00]\n",
            " [4.270e+02 5.200e+01 1.600e+02 5.100e+01 3.400e+01 3.000e+02 0.000e+00]\n",
            " [2.270e+02 2.000e+00 1.280e+02 1.292e+03 8.800e+01 3.600e+01 1.000e+00]\n",
            " [2.440e+02 4.200e+01 2.980e+02 6.800e+01 2.150e+02 3.650e+02 1.000e+00]\n",
            " [2.500e+02 8.600e+01 2.220e+02 4.700e+01 7.200e+01 5.700e+02 0.000e+00]\n",
            " [4.600e+01 3.300e+01 1.200e+01 6.000e+00 9.000e+00 5.000e+00 0.000e+00]]\n"
          ]
        }
      ],
      "source": [
        "analyiseData2(-1)"
      ]
    },
    {
      "cell_type": "markdown",
      "metadata": {
        "id": "oMnn-NGCoNUD"
      },
      "source": [
        "Dobiven je ukupan accuracy od 44.5%, na službenoj stranici je dobiven accuracy od 47.3% pa vidimo da je ovo dosta dobro. "
      ]
    },
    {
      "cell_type": "code",
      "execution_count": 17,
      "metadata": {
        "colab": {
          "base_uri": "https://localhost:8080/"
        },
        "id": "NS1lLa-vmNy6",
        "outputId": "60d639d5-35bc-47d1-b037-1ad2fc556cb7"
      },
      "outputs": [
        {
          "name": "stdout",
          "output_type": "stream",
          "text": [
            "Files already downloaded and verified\n"
          ]
        }
      ],
      "source": [
        "transform = transforms.Compose(\n",
        "    [transforms.ToTensor(),\n",
        "     transforms.Normalize((0.5, 0.5, 0.5), (0.5, 0.5, 0.5))])\n",
        "\n",
        "\n",
        "classes = [\n",
        "    'airplane',\n",
        "    'automobile',\n",
        "    'bird',\n",
        "    'cat',\n",
        "    'deer',\n",
        "    'dog',\n",
        "    'frog',\n",
        "    'horse',\n",
        "    'ship',\n",
        "    'truck',\n",
        "]\n",
        "templates = [\n",
        "    'a photo of a {}.',\n",
        "    'a blurry photo of a {}.',\n",
        "    'a black and white photo of a {}.',\n",
        "    'a low contrast photo of a {}.',\n",
        "    'a high contrast photo of a {}.',\n",
        "    'a bad photo of a {}.',\n",
        "    'a good photo of a {}.',\n",
        "    'a photo of a small {}.',\n",
        "    'a photo of a big {}.',\n",
        "    'a photo of the {}.',\n",
        "    'a blurry photo of the {}.',\n",
        "    'a black and white photo of the {}.',\n",
        "    'a low contrast photo of the {}.',\n",
        "    'a high contrast photo of the {}.',\n",
        "    'a bad photo of the {}.',\n",
        "    'a good photo of the {}.',\n",
        "    'a photo of the small {}.',\n",
        "    'a photo of the big {}.',\n",
        "]\n",
        "\n",
        "formatted_output = []\n",
        "for clas in classes:\n",
        "  for template in templates:\n",
        "    formatted_output.append(template.format(clas))\n",
        "\n",
        "all_templates = formatted_output\n",
        "testset = torchvision.datasets.CIFAR10(root='./data', train=False,\n",
        "                                       download=True, transform=transform)\n",
        "batch_size = len(testset)\n",
        "testloader = torch.utils.data.DataLoader(testset, batch_size=batch_size,\n",
        "                                         shuffle=False, num_workers=2)\n",
        "\n",
        "\n",
        "to_pil = transforms.ToPILImage()\n",
        "\n",
        "def analyiseData3(n, images, labels):\n",
        "  classified = 0\n",
        "  correct_classifications = 0\n",
        "  incorrect_classifications = 0\n",
        "  text = tokenizer(all_templates).to('cuda')\n",
        "  for i in range(n):\n",
        "    classified += 1\n",
        "    img = images[i]/2 + 0.5\n",
        "    img = to_pil(img)\n",
        "    retarr = np.array(analyise3(img, text))\n",
        "    if(labels[i] == np.argmax(retarr) // len(templates)):\n",
        "      correct_classifications += 1\n",
        "    else:\n",
        "      incorrect_classifications += 1\n",
        "      print(\"Currently classifying \" + image_name, \"  Done: \", (correct_classifications + incorrect_classifications), \"/\", n * len(class_names), \" Current accuracy: \", correct_classifications/(correct_classifications + incorrect_classifications))\n",
        "    clear_output(wait=True)\n",
        "  print(\"Accuracy on batch size of \", n, \" \", correct_classifications/(correct_classifications + incorrect_classifications))"
      ]
    },
    {
      "cell_type": "code",
      "execution_count": 18,
      "metadata": {
        "id": "thieXIr_O2hu"
      },
      "outputs": [
        {
          "name": "stdout",
          "output_type": "stream",
          "text": [
            "Requirement already satisfied: matplotlib in /home/lnidogon/miniconda3/envs/projektr/lib/python3.11/site-packages (3.10.0)\n",
            "Requirement already satisfied: contourpy>=1.0.1 in /home/lnidogon/miniconda3/envs/projektr/lib/python3.11/site-packages (from matplotlib) (1.3.1)\n",
            "Requirement already satisfied: cycler>=0.10 in /home/lnidogon/miniconda3/envs/projektr/lib/python3.11/site-packages (from matplotlib) (0.12.1)\n",
            "Requirement already satisfied: fonttools>=4.22.0 in /home/lnidogon/miniconda3/envs/projektr/lib/python3.11/site-packages (from matplotlib) (4.55.3)\n",
            "Requirement already satisfied: kiwisolver>=1.3.1 in /home/lnidogon/miniconda3/envs/projektr/lib/python3.11/site-packages (from matplotlib) (1.4.8)\n",
            "Requirement already satisfied: numpy>=1.23 in /home/lnidogon/miniconda3/envs/projektr/lib/python3.11/site-packages (from matplotlib) (1.26.3)\n",
            "Requirement already satisfied: packaging>=20.0 in /home/lnidogon/miniconda3/envs/projektr/lib/python3.11/site-packages (from matplotlib) (24.2)\n",
            "Requirement already satisfied: pillow>=8 in /home/lnidogon/miniconda3/envs/projektr/lib/python3.11/site-packages (from matplotlib) (10.2.0)\n",
            "Requirement already satisfied: pyparsing>=2.3.1 in /home/lnidogon/miniconda3/envs/projektr/lib/python3.11/site-packages (from matplotlib) (3.2.1)\n",
            "Requirement already satisfied: python-dateutil>=2.7 in /home/lnidogon/miniconda3/envs/projektr/lib/python3.11/site-packages (from matplotlib) (2.9.0.post0)\n",
            "Requirement already satisfied: six>=1.5 in /home/lnidogon/miniconda3/envs/projektr/lib/python3.11/site-packages (from python-dateutil>=2.7->matplotlib) (1.17.0)\n",
            "Note: you may need to restart the kernel to use updated packages.\n"
          ]
        }
      ],
      "source": [
        "%pip install matplotlib\n",
        "import matplotlib\n",
        "import matplotlib.pyplot as plt\n",
        "dataiter = iter(testloader)\n",
        "images, labels = next(dataiter)"
      ]
    },
    {
      "cell_type": "code",
      "execution_count": 19,
      "metadata": {
        "colab": {
          "base_uri": "https://localhost:8080/"
        },
        "id": "a7noCsbyiITF",
        "outputId": "6f9d8e4e-99dd-470f-8ddb-9dd7adc8c513"
      },
      "outputs": [
        {
          "name": "stdout",
          "output_type": "stream",
          "text": [
            "Accuracy on batch size of  10000   0.889\n"
          ]
        }
      ],
      "source": [
        "analyiseData3(batch_size, images, labels)"
      ]
    },
    {
      "cell_type": "markdown",
      "metadata": {
        "id": "AV4jvC-qjBkV"
      },
      "source": [
        "Dobivamo accuracy od 88.9% dok je u paperu dobiveno 91.3% što je zadovoljavajuće "
      ]
    },
    {
      "cell_type": "code",
      "execution_count": 20,
      "metadata": {
        "colab": {
          "base_uri": "https://localhost:8080/"
        },
        "id": "E_oXNXaVQmv8",
        "outputId": "b6f13407-8cbc-43d6-df63-41e478d86046"
      },
      "outputs": [
        {
          "name": "stdout",
          "output_type": "stream",
          "text": [
            "Requirement already satisfied: pandas in /home/lnidogon/miniconda3/envs/projektr/lib/python3.11/site-packages (2.2.3)\n",
            "Requirement already satisfied: numpy>=1.23.2 in /home/lnidogon/miniconda3/envs/projektr/lib/python3.11/site-packages (from pandas) (1.26.3)\n",
            "Requirement already satisfied: python-dateutil>=2.8.2 in /home/lnidogon/miniconda3/envs/projektr/lib/python3.11/site-packages (from pandas) (2.9.0.post0)\n",
            "Requirement already satisfied: pytz>=2020.1 in /home/lnidogon/miniconda3/envs/projektr/lib/python3.11/site-packages (from pandas) (2024.2)\n",
            "Requirement already satisfied: tzdata>=2022.7 in /home/lnidogon/miniconda3/envs/projektr/lib/python3.11/site-packages (from pandas) (2024.2)\n",
            "Requirement already satisfied: six>=1.5 in /home/lnidogon/miniconda3/envs/projektr/lib/python3.11/site-packages (from python-dateutil>=2.8.2->pandas) (1.17.0)\n",
            "Note: you may need to restart the kernel to use updated packages.\n",
            "Requirement already satisfied: openpyxl in /home/lnidogon/miniconda3/envs/projektr/lib/python3.11/site-packages (3.1.5)\n",
            "Requirement already satisfied: et-xmlfile in /home/lnidogon/miniconda3/envs/projektr/lib/python3.11/site-packages (from openpyxl) (2.0.0)\n",
            "Note: you may need to restart the kernel to use updated packages.\n"
          ]
        }
      ],
      "source": [
        "%pip install pandas\n",
        "%pip install openpyxl\n",
        "import pandas as pd\n",
        "df = pd.read_excel('stanford_cars_with_class_names.xlsx', sheet_name=1)\n",
        "car_classes = [\n",
        "    'AM General Hummer SUV 2000',\n",
        "    'Acura RL Sedan 2012',\n",
        "    'Acura TL Sedan 2012',\n",
        "    'Acura TL Type-S 2008',\n",
        "    'Acura TSX Sedan 2012',\n",
        "    'Acura Integra Type R 2001',\n",
        "    'Acura ZDX Hatchback 2012',\n",
        "    'Aston Martin V8 Vantage Convertible 2012',\n",
        "    'Aston Martin V8 Vantage Coupe 2012',\n",
        "    'Aston Martin Virage Convertible 2012',\n",
        "    'Aston Martin Virage Coupe 2012',\n",
        "    'Audi RS 4 Convertible 2008',\n",
        "    'Audi A5 Coupe 2012',\n",
        "    'Audi TTS Coupe 2012',\n",
        "    'Audi R8 Coupe 2012',\n",
        "    'Audi V8 Sedan 1994',\n",
        "    'Audi 100 Sedan 1994',\n",
        "    'Audi 100 Wagon 1994',\n",
        "    'Audi TT Hatchback 2011',\n",
        "    'Audi S6 Sedan 2011',\n",
        "    'Audi S5 Convertible 2012',\n",
        "    'Audi S5 Coupe 2012',\n",
        "    'Audi S4 Sedan 2012',\n",
        "    'Audi S4 Sedan 2007',\n",
        "    'Audi TT RS Coupe 2012',\n",
        "    'BMW ActiveHybrid 5 Sedan 2012',\n",
        "    'BMW 1 Series Convertible 2012',\n",
        "    'BMW 1 Series Coupe 2012',\n",
        "    'BMW 3 Series Sedan 2012',\n",
        "    'BMW 3 Series Wagon 2012',\n",
        "    'BMW 6 Series Convertible 2007',\n",
        "    'BMW X5 SUV 2007',\n",
        "    'BMW X6 SUV 2012',\n",
        "    'BMW M3 Coupe 2012',\n",
        "    'BMW M5 Sedan 2010',\n",
        "    'BMW M6 Convertible 2010',\n",
        "    'BMW X3 SUV 2012',\n",
        "    'BMW Z4 Convertible 2012',\n",
        "    'Bentley Continental Supersports Conv. Convertible 2012',\n",
        "    'Bentley Arnage Sedan 2009',\n",
        "    'Bentley Mulsanne Sedan 2011',\n",
        "    'Bentley Continental GT Coupe 2012',\n",
        "    'Bentley Continental GT Coupe 2007',\n",
        "    'Bentley Continental Flying Spur Sedan 2007',\n",
        "    'Bugatti Veyron 16.4 Convertible 2009',\n",
        "    'Bugatti Veyron 16.4 Coupe 2009',\n",
        "    'Buick Regal GS 2012',\n",
        "    'Buick Rainier SUV 2007',\n",
        "    'Buick Verano Sedan 2012',\n",
        "    'Buick Enclave SUV 2012',\n",
        "    'Cadillac CTS-V Sedan 2012',\n",
        "    'Cadillac SRX SUV 2012',\n",
        "    'Cadillac Escalade EXT Crew Cab 2007',\n",
        "    'Chevrolet Silverado 1500 Hybrid Crew Cab 2012',\n",
        "    'Chevrolet Corvette Convertible 2012',\n",
        "    'Chevrolet Corvette ZR1 2012',\n",
        "    'Chevrolet Corvette Ron Fellows Edition Z06 2007',\n",
        "    'Chevrolet Traverse SUV 2012',\n",
        "    'Chevrolet Camaro Convertible 2012',\n",
        "    'Chevrolet HHR SS 2010',\n",
        "    'Chevrolet Impala Sedan 2007',\n",
        "    'Chevrolet Tahoe Hybrid SUV 2012',\n",
        "    'Chevrolet Sonic Sedan 2012',\n",
        "    'Chevrolet Express Cargo Van 2007',\n",
        "    'Chevrolet Avalanche Crew Cab 2012',\n",
        "    'Chevrolet Cobalt SS 2010',\n",
        "    'Chevrolet Malibu Hybrid Sedan 2010',\n",
        "    'Chevrolet TrailBlazer SS 2009',\n",
        "    'Chevrolet Silverado 2500HD Regular Cab 2012',\n",
        "    'Chevrolet Silverado 1500 Classic Extended Cab 2007',\n",
        "    'Chevrolet Express Van 2007',\n",
        "    'Chevrolet Monte Carlo Coupe 2007',\n",
        "    'Chevrolet Malibu Sedan 2007',\n",
        "    'Chevrolet Silverado 1500 Extended Cab 2012',\n",
        "    'Chevrolet Silverado 1500 Regular Cab 2012',\n",
        "    'Chrysler Aspen SUV 2009',\n",
        "    'Chrysler Sebring Convertible 2010',\n",
        "    'Chrysler Town and Country Minivan 2012',\n",
        "    'Chrysler 300 SRT-8 2010',\n",
        "    'Chrysler Crossfire Convertible 2008',\n",
        "    'Chrysler PT Cruiser Convertible 2008',\n",
        "    'Daewoo Nubira Wagon 2002',\n",
        "    'Dodge Caliber Wagon 2012',\n",
        "    'Dodge Caliber Wagon 2007',\n",
        "    'Dodge Caravan Minivan 1997',\n",
        "    'Dodge Ram Pickup 3500 Crew Cab 2010',\n",
        "    'Dodge Ram Pickup 3500 Quad Cab 2009',\n",
        "    'Dodge Sprinter Cargo Van 2009',\n",
        "    'Dodge Journey SUV 2012',\n",
        "    'Dodge Dakota Crew Cab 2010',\n",
        "    'Dodge Dakota Club Cab 2007',\n",
        "    'Dodge Magnum Wagon 2008',\n",
        "    'Dodge Challenger SRT8 2011',\n",
        "    'Dodge Durango SUV 2012',\n",
        "    'Dodge Durango SUV 2007',\n",
        "    'Dodge Charger Sedan 2012',\n",
        "    'Dodge Charger SRT-8 2009',\n",
        "    'Eagle Talon Hatchback 1998',\n",
        "    'FIAT 500 Abarth 2012',\n",
        "    'FIAT 500 Convertible 2012',\n",
        "    'Ferrari FF Coupe 2012',\n",
        "    'Ferrari California Convertible 2012',\n",
        "    'Ferrari 458 Italia Convertible 2012',\n",
        "    'Ferrari 458 Italia Coupe 2012',\n",
        "    'Fisker Karma Sedan 2012',\n",
        "    'Ford F-450 Super Duty Crew Cab 2012',\n",
        "    'Ford Mustang Convertible 2007',\n",
        "    'Ford Freestar Minivan 2007',\n",
        "    'Ford Expedition EL SUV 2009',\n",
        "    'Ford Edge SUV 2012',\n",
        "    'Ford Ranger SuperCab 2011',\n",
        "    'Ford GT Coupe 2006',\n",
        "    'Ford F-150 Regular Cab 2012',\n",
        "    'Ford F-150 Regular Cab 2007',\n",
        "    'Ford Focus Sedan 2007',\n",
        "    'Ford E-Series Wagon Van 2012',\n",
        "    'Ford Fiesta Sedan 2012',\n",
        "    'GMC Terrain SUV 2012',\n",
        "    'GMC Savana Van 2012',\n",
        "    'GMC Yukon Hybrid SUV 2012',\n",
        "    'GMC Acadia SUV 2012',\n",
        "    'GMC Canyon Extended Cab 2012',\n",
        "    'Geo Metro Convertible 1993',\n",
        "    'HUMMER H3T Crew Cab 2010',\n",
        "    'HUMMER H2 SUT Crew Cab 2009',\n",
        "    'Honda Odyssey Minivan 2012',\n",
        "    'Honda Odyssey Minivan 2007',\n",
        "    'Honda Accord Coupe 2012',\n",
        "    'Honda Accord Sedan 2012',\n",
        "    'Hyundai Veloster Hatchback 2012',\n",
        "    'Hyundai Santa Fe SUV 2012',\n",
        "    'Hyundai Tucson SUV 2012',\n",
        "    'Hyundai Veracruz SUV 2012',\n",
        "    'Hyundai Sonata Hybrid Sedan 2012',\n",
        "    'Hyundai Elantra Sedan 2007',\n",
        "    'Hyundai Accent Sedan 2012',\n",
        "    'Hyundai Genesis Sedan 2012',\n",
        "    'Hyundai Sonata Sedan 2012',\n",
        "    'Hyundai Elantra Touring Hatchback 2012',\n",
        "    'Hyundai Azera Sedan 2012',\n",
        "    'Infiniti G Coupe IPL 2012',\n",
        "    'Infiniti QX56 SUV 2011',\n",
        "    'Isuzu Ascender SUV 2008',\n",
        "    'Jaguar XK XKR 2012',\n",
        "    'Jeep Patriot SUV 2012',\n",
        "    'Jeep Wrangler SUV 2012',\n",
        "    'Jeep Liberty SUV 2012',\n",
        "    'Jeep Grand Cherokee SUV 2012',\n",
        "    'Jeep Compass SUV 2012',\n",
        "    'Lamborghini Reventon Coupe 2008',\n",
        "    'Lamborghini Aventador Coupe 2012',\n",
        "    'Lamborghini Gallardo LP 570-4 Superleggera 2012',\n",
        "    'Lamborghini Diablo Coupe 2001',\n",
        "    'Land Rover Range Rover SUV 2012',\n",
        "    'Land Rover LR2 SUV 2012',\n",
        "    'Lincoln Town Car Sedan 2011',\n",
        "    'MINI Cooper Roadster Convertible 2012',\n",
        "    'Maybach Landaulet Convertible 2012',\n",
        "    'Mazda Tribute SUV 2011',\n",
        "    'McLaren MP4-12C Coupe 2012',\n",
        "    'Mercedes-Benz 300-Class Convertible 1993',\n",
        "    'Mercedes-Benz C-Class Sedan 2012',\n",
        "    'Mercedes-Benz SL-Class Coupe 2009',\n",
        "    'Mercedes-Benz E-Class Sedan 2012',\n",
        "    'Mercedes-Benz S-Class Sedan 2012',\n",
        "    'Mercedes-Benz Sprinter Van 2012',\n",
        "    'Mitsubishi Lancer Sedan 2012',\n",
        "    'Nissan Leaf Hatchback 2012',\n",
        "    'Nissan NV Passenger Van 2012',\n",
        "    'Nissan Juke Hatchback 2012',\n",
        "    'Nissan 240SX Coupe 1998',\n",
        "    'Plymouth Neon Coupe 1999',\n",
        "    'Porsche Panamera Sedan 2012',\n",
        "    'Ram C/V Cargo Van Minivan 2012',\n",
        "    'Rolls-Royce Phantom Drophead Coupe Convertible 2012',\n",
        "    'Rolls-Royce Ghost Sedan 2012',\n",
        "    'Rolls-Royce Phantom Sedan 2012',\n",
        "    'Scion xD Hatchback 2012',\n",
        "    'Spyker C8 Convertible 2009',\n",
        "    'Spyker C8 Coupe 2009',\n",
        "    'Suzuki Aerio Sedan 2007',\n",
        "    'Suzuki Kizashi Sedan 2012',\n",
        "    'Suzuki SX4 Hatchback 2012',\n",
        "    'Suzuki SX4 Sedan 2012',\n",
        "    'Tesla Model S Sedan 2012',\n",
        "    'Toyota Sequoia SUV 2012',\n",
        "    'Toyota Camry Sedan 2012',\n",
        "    'Toyota Corolla Sedan 2012',\n",
        "    'Toyota 4Runner SUV 2012',\n",
        "    'Volkswagen Golf Hatchback 2012',\n",
        "    'Volkswagen Golf Hatchback 1991',\n",
        "    'Volkswagen Beetle Hatchback 2012',\n",
        "    'Volvo C30 Hatchback 2012',\n",
        "    'Volvo 240 Sedan 1993',\n",
        "    'Volvo XC90 SUV 2007',\n",
        "    'smart fortwo Convertible 2012',\n",
        "]\n",
        "car_annos = np.array(df[\"class\"])\n",
        "car_templates = [\n",
        "    'a photo of a {}.',\n",
        "    'a photo of the {}.',\n",
        "    'a photo of my {}.',\n",
        "    'i love my {}!',\n",
        "    'a photo of my dirty {}.',\n",
        "    'a photo of my clean {}.',\n",
        "    'a photo of my new {}.',\n",
        "    'a photo of my old {}.',\n",
        "]\n",
        "car_formatted_output = []\n",
        "for clas in car_classes:\n",
        "  for template in car_templates:\n",
        "    car_formatted_output.append(template.format(clas))\n",
        "\n",
        "car_values = []\n",
        "for i in range(len(car_classes)):\n",
        "  for _ in range(len(car_templates)):\n",
        "    car_values.append(i)\n",
        "car_template_class = list(zip(car_formatted_output, car_values))\n"
      ]
    },
    {
      "cell_type": "code",
      "execution_count": 21,
      "metadata": {
        "colab": {
          "base_uri": "https://localhost:8080/"
        },
        "id": "a39k7qwlhw4v",
        "outputId": "298a4dd4-8f77-4b93-e769-c1e2b3a87766"
      },
      "outputs": [],
      "source": [
        "import torch\n",
        "import os\n",
        "import numpy as np\n",
        "from IPython.display import clear_output\n",
        "\n",
        "\n",
        "model, preprocess = clip.load(\"ViT-B/32\")\n",
        "model.to('cuda')\n",
        "model.eval()\n",
        "tokenizer = open_clip.get_tokenizer('ViT-B-32')\n",
        "dataset_folder_path = \"cars_test/cars_test/\"\n",
        "\n",
        "def analyiseData3(n):\n",
        "  m = 0\n",
        "  correct_answer = 0\n",
        "  correct_classifications = 0\n",
        "  incorrect_classifications = 0\n",
        "  text = tokenizer(car_formatted_output).to('cuda')\n",
        "  arr = os.listdir(os.path.join(dataset_folder_path))\n",
        "  np.sort(arr)\n",
        "  print(len(arr))\n",
        "  for _ in arr:\n",
        "    print(str(m + 1).zfill(5) + \".jpg\")\n",
        "    image_name = str(m + 1).zfill(5) + \".jpg\"\n",
        "    correct_class = car_annos[m] - 1\n",
        "    print(image_name)\n",
        "    print(\"Correct class: \", correct_class, car_classes[correct_class])\n",
        "    values = np.array(analyise2_no_resize(image_name, text, dataset_folder_path))\n",
        "    #print(list(zip(class_names, values)))\n",
        "    print(\"Predicted class: \", car_values[np.argmax(values)], car_classes[car_values[np.argmax(values)]])\n",
        "    if car_values[np.argmax(values)] == correct_class:\n",
        "        correct_classifications += 1\n",
        "    else:\n",
        "        incorrect_classifications += 1\n",
        "    print(values[correct_class])\n",
        "    clear_output(wait=True)\n",
        "    print(\"Currently classifying \" + image_name, \"  Done: \", (correct_classifications + incorrect_classifications), \"/\", len(arr), \" Current accuracy: \", correct_classifications/(correct_classifications + incorrect_classifications))\n",
        "    m += 1\n",
        "    if n == m:\n",
        "      break\n",
        "  #print(correct_answers)\n",
        "  #print(incorrect_answers)\n",
        "  correct_answer += 1\n",
        "  print(\"Accuracy on \", n, \" images from every class: \", correct_classifications/(correct_classifications + incorrect_classifications))"
      ]
    },
    {
      "cell_type": "code",
      "execution_count": 15,
      "metadata": {
        "colab": {
          "base_uri": "https://localhost:8080/",
          "height": 356
        },
        "id": "o8o7P20wFTzi",
        "outputId": "6661a996-e5f7-4bf8-b6e4-f6170418de9d"
      },
      "outputs": [
        {
          "name": "stdout",
          "output_type": "stream",
          "text": [
            "Currently classifying 08041.jpg   Done:  8041 / 8041  Current accuracy:  0.5924636239273722\n",
            "Accuracy on  8041  images from every class:  0.5924636239273722\n"
          ]
        }
      ],
      "source": [
        "analyiseData3(8041)"
      ]
    },
    {
      "cell_type": "markdown",
      "metadata": {},
      "source": [
        "Točnost koju sam dobio je 59.24% što se podudara s benchmark točnosti od 59.4%"
      ]
    }
  ],
  "metadata": {
    "accelerator": "GPU",
    "colab": {
      "gpuType": "T4",
      "provenance": []
    },
    "kernelspec": {
      "display_name": "projektr",
      "language": "python",
      "name": "python3"
    },
    "language_info": {
      "codemirror_mode": {
        "name": "ipython",
        "version": 3
      },
      "file_extension": ".py",
      "mimetype": "text/x-python",
      "name": "python",
      "nbconvert_exporter": "python",
      "pygments_lexer": "ipython3",
      "version": "3.11.11"
    },
    "widgets": {
      "application/vnd.jupyter.widget-state+json": {
        "059866ebe96d4544b6f8f4182c75a002": {
          "model_module": "@jupyter-widgets/base",
          "model_module_version": "1.2.0",
          "model_name": "LayoutModel",
          "state": {
            "_model_module": "@jupyter-widgets/base",
            "_model_module_version": "1.2.0",
            "_model_name": "LayoutModel",
            "_view_count": null,
            "_view_module": "@jupyter-widgets/base",
            "_view_module_version": "1.2.0",
            "_view_name": "LayoutView",
            "align_content": null,
            "align_items": null,
            "align_self": null,
            "border": null,
            "bottom": null,
            "display": null,
            "flex": null,
            "flex_flow": null,
            "grid_area": null,
            "grid_auto_columns": null,
            "grid_auto_flow": null,
            "grid_auto_rows": null,
            "grid_column": null,
            "grid_gap": null,
            "grid_row": null,
            "grid_template_areas": null,
            "grid_template_columns": null,
            "grid_template_rows": null,
            "height": null,
            "justify_content": null,
            "justify_items": null,
            "left": null,
            "margin": null,
            "max_height": null,
            "max_width": null,
            "min_height": null,
            "min_width": null,
            "object_fit": null,
            "object_position": null,
            "order": null,
            "overflow": null,
            "overflow_x": null,
            "overflow_y": null,
            "padding": null,
            "right": null,
            "top": null,
            "visibility": null,
            "width": null
          }
        },
        "0708883803054e9d9b603153700953ce": {
          "model_module": "@jupyter-widgets/controls",
          "model_module_version": "1.5.0",
          "model_name": "ProgressStyleModel",
          "state": {
            "_model_module": "@jupyter-widgets/controls",
            "_model_module_version": "1.5.0",
            "_model_name": "ProgressStyleModel",
            "_view_count": null,
            "_view_module": "@jupyter-widgets/base",
            "_view_module_version": "1.2.0",
            "_view_name": "StyleView",
            "bar_color": null,
            "description_width": ""
          }
        },
        "0d83686a4d8440ba9b24fd6d89c088ba": {
          "model_module": "@jupyter-widgets/controls",
          "model_module_version": "1.5.0",
          "model_name": "HBoxModel",
          "state": {
            "_dom_classes": [],
            "_model_module": "@jupyter-widgets/controls",
            "_model_module_version": "1.5.0",
            "_model_name": "HBoxModel",
            "_view_count": null,
            "_view_module": "@jupyter-widgets/controls",
            "_view_module_version": "1.5.0",
            "_view_name": "HBoxView",
            "box_style": "",
            "children": [
              "IPY_MODEL_1932056d78b74457b82dcd3f1596c447",
              "IPY_MODEL_f68a61a1e5e34d7c85d4183e88459152",
              "IPY_MODEL_c62fe47f72824196af390b44b168b073"
            ],
            "layout": "IPY_MODEL_838cd28a54244baaa174bce206298f9c"
          }
        },
        "11d56fefabc34a198b7eb0de3bbaab0f": {
          "model_module": "@jupyter-widgets/base",
          "model_module_version": "1.2.0",
          "model_name": "LayoutModel",
          "state": {
            "_model_module": "@jupyter-widgets/base",
            "_model_module_version": "1.2.0",
            "_model_name": "LayoutModel",
            "_view_count": null,
            "_view_module": "@jupyter-widgets/base",
            "_view_module_version": "1.2.0",
            "_view_name": "LayoutView",
            "align_content": null,
            "align_items": null,
            "align_self": null,
            "border": null,
            "bottom": null,
            "display": null,
            "flex": null,
            "flex_flow": null,
            "grid_area": null,
            "grid_auto_columns": null,
            "grid_auto_flow": null,
            "grid_auto_rows": null,
            "grid_column": null,
            "grid_gap": null,
            "grid_row": null,
            "grid_template_areas": null,
            "grid_template_columns": null,
            "grid_template_rows": null,
            "height": null,
            "justify_content": null,
            "justify_items": null,
            "left": null,
            "margin": null,
            "max_height": null,
            "max_width": null,
            "min_height": null,
            "min_width": null,
            "object_fit": null,
            "object_position": null,
            "order": null,
            "overflow": null,
            "overflow_x": null,
            "overflow_y": null,
            "padding": null,
            "right": null,
            "top": null,
            "visibility": null,
            "width": null
          }
        },
        "1932056d78b74457b82dcd3f1596c447": {
          "model_module": "@jupyter-widgets/controls",
          "model_module_version": "1.5.0",
          "model_name": "HTMLModel",
          "state": {
            "_dom_classes": [],
            "_model_module": "@jupyter-widgets/controls",
            "_model_module_version": "1.5.0",
            "_model_name": "HTMLModel",
            "_view_count": null,
            "_view_module": "@jupyter-widgets/controls",
            "_view_module_version": "1.5.0",
            "_view_name": "HTMLView",
            "description": "",
            "description_tooltip": null,
            "layout": "IPY_MODEL_9d4444122d07465a99014199b9f359ed",
            "placeholder": "​",
            "style": "IPY_MODEL_b05c32bd57164c24b3e833a92301bd21",
            "value": "open_clip_model.safetensors: 100%"
          }
        },
        "2cb4a352f4374142bca153f2f7f3e12a": {
          "model_module": "@jupyter-widgets/base",
          "model_module_version": "1.2.0",
          "model_name": "LayoutModel",
          "state": {
            "_model_module": "@jupyter-widgets/base",
            "_model_module_version": "1.2.0",
            "_model_name": "LayoutModel",
            "_view_count": null,
            "_view_module": "@jupyter-widgets/base",
            "_view_module_version": "1.2.0",
            "_view_name": "LayoutView",
            "align_content": null,
            "align_items": null,
            "align_self": null,
            "border": null,
            "bottom": null,
            "display": null,
            "flex": null,
            "flex_flow": null,
            "grid_area": null,
            "grid_auto_columns": null,
            "grid_auto_flow": null,
            "grid_auto_rows": null,
            "grid_column": null,
            "grid_gap": null,
            "grid_row": null,
            "grid_template_areas": null,
            "grid_template_columns": null,
            "grid_template_rows": null,
            "height": null,
            "justify_content": null,
            "justify_items": null,
            "left": null,
            "margin": null,
            "max_height": null,
            "max_width": null,
            "min_height": null,
            "min_width": null,
            "object_fit": null,
            "object_position": null,
            "order": null,
            "overflow": null,
            "overflow_x": null,
            "overflow_y": null,
            "padding": null,
            "right": null,
            "top": null,
            "visibility": null,
            "width": null
          }
        },
        "2f12eef3f55b4e2a98e9101aa92d2d8b": {
          "model_module": "@jupyter-widgets/controls",
          "model_module_version": "1.5.0",
          "model_name": "HTMLModel",
          "state": {
            "_dom_classes": [],
            "_model_module": "@jupyter-widgets/controls",
            "_model_module_version": "1.5.0",
            "_model_name": "HTMLModel",
            "_view_count": null,
            "_view_module": "@jupyter-widgets/controls",
            "_view_module_version": "1.5.0",
            "_view_name": "HTMLView",
            "description": "",
            "description_tooltip": null,
            "layout": "IPY_MODEL_62562a65c44449faa65e77a085283f1f",
            "placeholder": "​",
            "style": "IPY_MODEL_558cdf396f894eac8cc8688b15d38d0f",
            "value": " 718M/718M [00:08&lt;00:00, 26.5MB/s]"
          }
        },
        "3287e5cd2b424d52829c1f8c6dcbea6a": {
          "model_module": "@jupyter-widgets/controls",
          "model_module_version": "1.5.0",
          "model_name": "HTMLModel",
          "state": {
            "_dom_classes": [],
            "_model_module": "@jupyter-widgets/controls",
            "_model_module_version": "1.5.0",
            "_model_name": "HTMLModel",
            "_view_count": null,
            "_view_module": "@jupyter-widgets/controls",
            "_view_module_version": "1.5.0",
            "_view_name": "HTMLView",
            "description": "",
            "description_tooltip": null,
            "layout": "IPY_MODEL_83f3c0e22dbd490d8239f59da593ab47",
            "placeholder": "​",
            "style": "IPY_MODEL_a5042b61b56247c3a7a5019ab2fe9afa",
            "value": " 3.95G/3.95G [01:33&lt;00:00, 41.4MB/s]"
          }
        },
        "39a8d1964e6545f890778718f49bc7fb": {
          "model_module": "@jupyter-widgets/controls",
          "model_module_version": "1.5.0",
          "model_name": "HBoxModel",
          "state": {
            "_dom_classes": [],
            "_model_module": "@jupyter-widgets/controls",
            "_model_module_version": "1.5.0",
            "_model_name": "HBoxModel",
            "_view_count": null,
            "_view_module": "@jupyter-widgets/controls",
            "_view_module_version": "1.5.0",
            "_view_name": "HBoxView",
            "box_style": "",
            "children": [
              "IPY_MODEL_66b8e1ec8d03496db2efe30ad799b78a",
              "IPY_MODEL_7f08c9f203b34d188550532664199f37",
              "IPY_MODEL_3287e5cd2b424d52829c1f8c6dcbea6a"
            ],
            "layout": "IPY_MODEL_3fe50e6f1c1d4f26aaeec715497d5dbf"
          }
        },
        "3fe50e6f1c1d4f26aaeec715497d5dbf": {
          "model_module": "@jupyter-widgets/base",
          "model_module_version": "1.2.0",
          "model_name": "LayoutModel",
          "state": {
            "_model_module": "@jupyter-widgets/base",
            "_model_module_version": "1.2.0",
            "_model_name": "LayoutModel",
            "_view_count": null,
            "_view_module": "@jupyter-widgets/base",
            "_view_module_version": "1.2.0",
            "_view_name": "LayoutView",
            "align_content": null,
            "align_items": null,
            "align_self": null,
            "border": null,
            "bottom": null,
            "display": null,
            "flex": null,
            "flex_flow": null,
            "grid_area": null,
            "grid_auto_columns": null,
            "grid_auto_flow": null,
            "grid_auto_rows": null,
            "grid_column": null,
            "grid_gap": null,
            "grid_row": null,
            "grid_template_areas": null,
            "grid_template_columns": null,
            "grid_template_rows": null,
            "height": null,
            "justify_content": null,
            "justify_items": null,
            "left": null,
            "margin": null,
            "max_height": null,
            "max_width": null,
            "min_height": null,
            "min_width": null,
            "object_fit": null,
            "object_position": null,
            "order": null,
            "overflow": null,
            "overflow_x": null,
            "overflow_y": null,
            "padding": null,
            "right": null,
            "top": null,
            "visibility": null,
            "width": null
          }
        },
        "4b7c48de718948289b0e018dba94ce3e": {
          "model_module": "@jupyter-widgets/base",
          "model_module_version": "1.2.0",
          "model_name": "LayoutModel",
          "state": {
            "_model_module": "@jupyter-widgets/base",
            "_model_module_version": "1.2.0",
            "_model_name": "LayoutModel",
            "_view_count": null,
            "_view_module": "@jupyter-widgets/base",
            "_view_module_version": "1.2.0",
            "_view_name": "LayoutView",
            "align_content": null,
            "align_items": null,
            "align_self": null,
            "border": null,
            "bottom": null,
            "display": null,
            "flex": null,
            "flex_flow": null,
            "grid_area": null,
            "grid_auto_columns": null,
            "grid_auto_flow": null,
            "grid_auto_rows": null,
            "grid_column": null,
            "grid_gap": null,
            "grid_row": null,
            "grid_template_areas": null,
            "grid_template_columns": null,
            "grid_template_rows": null,
            "height": null,
            "justify_content": null,
            "justify_items": null,
            "left": null,
            "margin": null,
            "max_height": null,
            "max_width": null,
            "min_height": null,
            "min_width": null,
            "object_fit": null,
            "object_position": null,
            "order": null,
            "overflow": null,
            "overflow_x": null,
            "overflow_y": null,
            "padding": null,
            "right": null,
            "top": null,
            "visibility": null,
            "width": null
          }
        },
        "558cdf396f894eac8cc8688b15d38d0f": {
          "model_module": "@jupyter-widgets/controls",
          "model_module_version": "1.5.0",
          "model_name": "DescriptionStyleModel",
          "state": {
            "_model_module": "@jupyter-widgets/controls",
            "_model_module_version": "1.5.0",
            "_model_name": "DescriptionStyleModel",
            "_view_count": null,
            "_view_module": "@jupyter-widgets/base",
            "_view_module_version": "1.2.0",
            "_view_name": "StyleView",
            "description_width": ""
          }
        },
        "58f481e436c34d18a1eebd24e0343cb0": {
          "model_module": "@jupyter-widgets/controls",
          "model_module_version": "1.5.0",
          "model_name": "HTMLModel",
          "state": {
            "_dom_classes": [],
            "_model_module": "@jupyter-widgets/controls",
            "_model_module_version": "1.5.0",
            "_model_name": "HTMLModel",
            "_view_count": null,
            "_view_module": "@jupyter-widgets/controls",
            "_view_module_version": "1.5.0",
            "_view_name": "HTMLView",
            "description": "",
            "description_tooltip": null,
            "layout": "IPY_MODEL_2cb4a352f4374142bca153f2f7f3e12a",
            "placeholder": "​",
            "style": "IPY_MODEL_f3110d5594dd489ab5fccebac96e32a7",
            "value": " 735/735 [00:00&lt;00:00, 50.5kB/s]"
          }
        },
        "5c3dc34448944b7da48fcdd30da6048c": {
          "model_module": "@jupyter-widgets/controls",
          "model_module_version": "1.5.0",
          "model_name": "DescriptionStyleModel",
          "state": {
            "_model_module": "@jupyter-widgets/controls",
            "_model_module_version": "1.5.0",
            "_model_name": "DescriptionStyleModel",
            "_view_count": null,
            "_view_module": "@jupyter-widgets/base",
            "_view_module_version": "1.2.0",
            "_view_name": "StyleView",
            "description_width": ""
          }
        },
        "60f16e6ec96e4749beee80c04954fd9b": {
          "model_module": "@jupyter-widgets/controls",
          "model_module_version": "1.5.0",
          "model_name": "HBoxModel",
          "state": {
            "_dom_classes": [],
            "_model_module": "@jupyter-widgets/controls",
            "_model_module_version": "1.5.0",
            "_model_name": "HBoxModel",
            "_view_count": null,
            "_view_module": "@jupyter-widgets/controls",
            "_view_module_version": "1.5.0",
            "_view_name": "HBoxView",
            "box_style": "",
            "children": [
              "IPY_MODEL_a548d037a0484ed9a428cddf8b5b4f69",
              "IPY_MODEL_8924fead90ba4d59b7bd4273c20b1134",
              "IPY_MODEL_58f481e436c34d18a1eebd24e0343cb0"
            ],
            "layout": "IPY_MODEL_11d56fefabc34a198b7eb0de3bbaab0f"
          }
        },
        "62562a65c44449faa65e77a085283f1f": {
          "model_module": "@jupyter-widgets/base",
          "model_module_version": "1.2.0",
          "model_name": "LayoutModel",
          "state": {
            "_model_module": "@jupyter-widgets/base",
            "_model_module_version": "1.2.0",
            "_model_name": "LayoutModel",
            "_view_count": null,
            "_view_module": "@jupyter-widgets/base",
            "_view_module_version": "1.2.0",
            "_view_name": "LayoutView",
            "align_content": null,
            "align_items": null,
            "align_self": null,
            "border": null,
            "bottom": null,
            "display": null,
            "flex": null,
            "flex_flow": null,
            "grid_area": null,
            "grid_auto_columns": null,
            "grid_auto_flow": null,
            "grid_auto_rows": null,
            "grid_column": null,
            "grid_gap": null,
            "grid_row": null,
            "grid_template_areas": null,
            "grid_template_columns": null,
            "grid_template_rows": null,
            "height": null,
            "justify_content": null,
            "justify_items": null,
            "left": null,
            "margin": null,
            "max_height": null,
            "max_width": null,
            "min_height": null,
            "min_width": null,
            "object_fit": null,
            "object_position": null,
            "order": null,
            "overflow": null,
            "overflow_x": null,
            "overflow_y": null,
            "padding": null,
            "right": null,
            "top": null,
            "visibility": null,
            "width": null
          }
        },
        "66b8e1ec8d03496db2efe30ad799b78a": {
          "model_module": "@jupyter-widgets/controls",
          "model_module_version": "1.5.0",
          "model_name": "HTMLModel",
          "state": {
            "_dom_classes": [],
            "_model_module": "@jupyter-widgets/controls",
            "_model_module_version": "1.5.0",
            "_model_name": "HTMLModel",
            "_view_count": null,
            "_view_module": "@jupyter-widgets/controls",
            "_view_module_version": "1.5.0",
            "_view_name": "HTMLView",
            "description": "",
            "description_tooltip": null,
            "layout": "IPY_MODEL_b75bd4db343549f0829cc0f713237087",
            "placeholder": "​",
            "style": "IPY_MODEL_9bf831e0e5634e2095d25827939c5641",
            "value": "open_clip_pytorch_model.bin: 100%"
          }
        },
        "7f08c9f203b34d188550532664199f37": {
          "model_module": "@jupyter-widgets/controls",
          "model_module_version": "1.5.0",
          "model_name": "FloatProgressModel",
          "state": {
            "_dom_classes": [],
            "_model_module": "@jupyter-widgets/controls",
            "_model_module_version": "1.5.0",
            "_model_name": "FloatProgressModel",
            "_view_count": null,
            "_view_module": "@jupyter-widgets/controls",
            "_view_module_version": "1.5.0",
            "_view_name": "ProgressView",
            "bar_style": "success",
            "description": "",
            "description_tooltip": null,
            "layout": "IPY_MODEL_87ab896804fd490080d503e53e15d947",
            "max": 3947081637,
            "min": 0,
            "orientation": "horizontal",
            "style": "IPY_MODEL_0708883803054e9d9b603153700953ce",
            "value": 3947081637
          }
        },
        "838cd28a54244baaa174bce206298f9c": {
          "model_module": "@jupyter-widgets/base",
          "model_module_version": "1.2.0",
          "model_name": "LayoutModel",
          "state": {
            "_model_module": "@jupyter-widgets/base",
            "_model_module_version": "1.2.0",
            "_model_name": "LayoutModel",
            "_view_count": null,
            "_view_module": "@jupyter-widgets/base",
            "_view_module_version": "1.2.0",
            "_view_name": "LayoutView",
            "align_content": null,
            "align_items": null,
            "align_self": null,
            "border": null,
            "bottom": null,
            "display": null,
            "flex": null,
            "flex_flow": null,
            "grid_area": null,
            "grid_auto_columns": null,
            "grid_auto_flow": null,
            "grid_auto_rows": null,
            "grid_column": null,
            "grid_gap": null,
            "grid_row": null,
            "grid_template_areas": null,
            "grid_template_columns": null,
            "grid_template_rows": null,
            "height": null,
            "justify_content": null,
            "justify_items": null,
            "left": null,
            "margin": null,
            "max_height": null,
            "max_width": null,
            "min_height": null,
            "min_width": null,
            "object_fit": null,
            "object_position": null,
            "order": null,
            "overflow": null,
            "overflow_x": null,
            "overflow_y": null,
            "padding": null,
            "right": null,
            "top": null,
            "visibility": null,
            "width": null
          }
        },
        "83f3c0e22dbd490d8239f59da593ab47": {
          "model_module": "@jupyter-widgets/base",
          "model_module_version": "1.2.0",
          "model_name": "LayoutModel",
          "state": {
            "_model_module": "@jupyter-widgets/base",
            "_model_module_version": "1.2.0",
            "_model_name": "LayoutModel",
            "_view_count": null,
            "_view_module": "@jupyter-widgets/base",
            "_view_module_version": "1.2.0",
            "_view_name": "LayoutView",
            "align_content": null,
            "align_items": null,
            "align_self": null,
            "border": null,
            "bottom": null,
            "display": null,
            "flex": null,
            "flex_flow": null,
            "grid_area": null,
            "grid_auto_columns": null,
            "grid_auto_flow": null,
            "grid_auto_rows": null,
            "grid_column": null,
            "grid_gap": null,
            "grid_row": null,
            "grid_template_areas": null,
            "grid_template_columns": null,
            "grid_template_rows": null,
            "height": null,
            "justify_content": null,
            "justify_items": null,
            "left": null,
            "margin": null,
            "max_height": null,
            "max_width": null,
            "min_height": null,
            "min_width": null,
            "object_fit": null,
            "object_position": null,
            "order": null,
            "overflow": null,
            "overflow_x": null,
            "overflow_y": null,
            "padding": null,
            "right": null,
            "top": null,
            "visibility": null,
            "width": null
          }
        },
        "8435e0846c5444a0b57e921e24470dc9": {
          "model_module": "@jupyter-widgets/controls",
          "model_module_version": "1.5.0",
          "model_name": "DescriptionStyleModel",
          "state": {
            "_model_module": "@jupyter-widgets/controls",
            "_model_module_version": "1.5.0",
            "_model_name": "DescriptionStyleModel",
            "_view_count": null,
            "_view_module": "@jupyter-widgets/base",
            "_view_module_version": "1.2.0",
            "_view_name": "StyleView",
            "description_width": ""
          }
        },
        "87ab896804fd490080d503e53e15d947": {
          "model_module": "@jupyter-widgets/base",
          "model_module_version": "1.2.0",
          "model_name": "LayoutModel",
          "state": {
            "_model_module": "@jupyter-widgets/base",
            "_model_module_version": "1.2.0",
            "_model_name": "LayoutModel",
            "_view_count": null,
            "_view_module": "@jupyter-widgets/base",
            "_view_module_version": "1.2.0",
            "_view_name": "LayoutView",
            "align_content": null,
            "align_items": null,
            "align_self": null,
            "border": null,
            "bottom": null,
            "display": null,
            "flex": null,
            "flex_flow": null,
            "grid_area": null,
            "grid_auto_columns": null,
            "grid_auto_flow": null,
            "grid_auto_rows": null,
            "grid_column": null,
            "grid_gap": null,
            "grid_row": null,
            "grid_template_areas": null,
            "grid_template_columns": null,
            "grid_template_rows": null,
            "height": null,
            "justify_content": null,
            "justify_items": null,
            "left": null,
            "margin": null,
            "max_height": null,
            "max_width": null,
            "min_height": null,
            "min_width": null,
            "object_fit": null,
            "object_position": null,
            "order": null,
            "overflow": null,
            "overflow_x": null,
            "overflow_y": null,
            "padding": null,
            "right": null,
            "top": null,
            "visibility": null,
            "width": null
          }
        },
        "890f682cf3f347d58f716526846f9e8a": {
          "model_module": "@jupyter-widgets/controls",
          "model_module_version": "1.5.0",
          "model_name": "ProgressStyleModel",
          "state": {
            "_model_module": "@jupyter-widgets/controls",
            "_model_module_version": "1.5.0",
            "_model_name": "ProgressStyleModel",
            "_view_count": null,
            "_view_module": "@jupyter-widgets/base",
            "_view_module_version": "1.2.0",
            "_view_name": "StyleView",
            "bar_color": null,
            "description_width": ""
          }
        },
        "8924fead90ba4d59b7bd4273c20b1134": {
          "model_module": "@jupyter-widgets/controls",
          "model_module_version": "1.5.0",
          "model_name": "FloatProgressModel",
          "state": {
            "_dom_classes": [],
            "_model_module": "@jupyter-widgets/controls",
            "_model_module_version": "1.5.0",
            "_model_name": "FloatProgressModel",
            "_view_count": null,
            "_view_module": "@jupyter-widgets/controls",
            "_view_module_version": "1.5.0",
            "_view_name": "ProgressView",
            "bar_style": "success",
            "description": "",
            "description_tooltip": null,
            "layout": "IPY_MODEL_eea069233b0f4c71b0309ca5a940dfa6",
            "max": 735,
            "min": 0,
            "orientation": "horizontal",
            "style": "IPY_MODEL_890f682cf3f347d58f716526846f9e8a",
            "value": 735
          }
        },
        "9a42202b462040eea569fa503bdca6f5": {
          "model_module": "@jupyter-widgets/base",
          "model_module_version": "1.2.0",
          "model_name": "LayoutModel",
          "state": {
            "_model_module": "@jupyter-widgets/base",
            "_model_module_version": "1.2.0",
            "_model_name": "LayoutModel",
            "_view_count": null,
            "_view_module": "@jupyter-widgets/base",
            "_view_module_version": "1.2.0",
            "_view_name": "LayoutView",
            "align_content": null,
            "align_items": null,
            "align_self": null,
            "border": null,
            "bottom": null,
            "display": null,
            "flex": null,
            "flex_flow": null,
            "grid_area": null,
            "grid_auto_columns": null,
            "grid_auto_flow": null,
            "grid_auto_rows": null,
            "grid_column": null,
            "grid_gap": null,
            "grid_row": null,
            "grid_template_areas": null,
            "grid_template_columns": null,
            "grid_template_rows": null,
            "height": null,
            "justify_content": null,
            "justify_items": null,
            "left": null,
            "margin": null,
            "max_height": null,
            "max_width": null,
            "min_height": null,
            "min_width": null,
            "object_fit": null,
            "object_position": null,
            "order": null,
            "overflow": null,
            "overflow_x": null,
            "overflow_y": null,
            "padding": null,
            "right": null,
            "top": null,
            "visibility": null,
            "width": null
          }
        },
        "9bf831e0e5634e2095d25827939c5641": {
          "model_module": "@jupyter-widgets/controls",
          "model_module_version": "1.5.0",
          "model_name": "DescriptionStyleModel",
          "state": {
            "_model_module": "@jupyter-widgets/controls",
            "_model_module_version": "1.5.0",
            "_model_name": "DescriptionStyleModel",
            "_view_count": null,
            "_view_module": "@jupyter-widgets/base",
            "_view_module_version": "1.2.0",
            "_view_name": "StyleView",
            "description_width": ""
          }
        },
        "9d4444122d07465a99014199b9f359ed": {
          "model_module": "@jupyter-widgets/base",
          "model_module_version": "1.2.0",
          "model_name": "LayoutModel",
          "state": {
            "_model_module": "@jupyter-widgets/base",
            "_model_module_version": "1.2.0",
            "_model_name": "LayoutModel",
            "_view_count": null,
            "_view_module": "@jupyter-widgets/base",
            "_view_module_version": "1.2.0",
            "_view_name": "LayoutView",
            "align_content": null,
            "align_items": null,
            "align_self": null,
            "border": null,
            "bottom": null,
            "display": null,
            "flex": null,
            "flex_flow": null,
            "grid_area": null,
            "grid_auto_columns": null,
            "grid_auto_flow": null,
            "grid_auto_rows": null,
            "grid_column": null,
            "grid_gap": null,
            "grid_row": null,
            "grid_template_areas": null,
            "grid_template_columns": null,
            "grid_template_rows": null,
            "height": null,
            "justify_content": null,
            "justify_items": null,
            "left": null,
            "margin": null,
            "max_height": null,
            "max_width": null,
            "min_height": null,
            "min_width": null,
            "object_fit": null,
            "object_position": null,
            "order": null,
            "overflow": null,
            "overflow_x": null,
            "overflow_y": null,
            "padding": null,
            "right": null,
            "top": null,
            "visibility": null,
            "width": null
          }
        },
        "a5042b61b56247c3a7a5019ab2fe9afa": {
          "model_module": "@jupyter-widgets/controls",
          "model_module_version": "1.5.0",
          "model_name": "DescriptionStyleModel",
          "state": {
            "_model_module": "@jupyter-widgets/controls",
            "_model_module_version": "1.5.0",
            "_model_name": "DescriptionStyleModel",
            "_view_count": null,
            "_view_module": "@jupyter-widgets/base",
            "_view_module_version": "1.2.0",
            "_view_name": "StyleView",
            "description_width": ""
          }
        },
        "a548d037a0484ed9a428cddf8b5b4f69": {
          "model_module": "@jupyter-widgets/controls",
          "model_module_version": "1.5.0",
          "model_name": "HTMLModel",
          "state": {
            "_dom_classes": [],
            "_model_module": "@jupyter-widgets/controls",
            "_model_module_version": "1.5.0",
            "_model_name": "HTMLModel",
            "_view_count": null,
            "_view_module": "@jupyter-widgets/controls",
            "_view_module_version": "1.5.0",
            "_view_name": "HTMLView",
            "description": "",
            "description_tooltip": null,
            "layout": "IPY_MODEL_ded9a7149ab14973af2aa75c1aeb31ad",
            "placeholder": "​",
            "style": "IPY_MODEL_8435e0846c5444a0b57e921e24470dc9",
            "value": "open_clip_config.json: 100%"
          }
        },
        "aa0f36b509b5437daf8e6ef636693d77": {
          "model_module": "@jupyter-widgets/controls",
          "model_module_version": "1.5.0",
          "model_name": "ProgressStyleModel",
          "state": {
            "_model_module": "@jupyter-widgets/controls",
            "_model_module_version": "1.5.0",
            "_model_name": "ProgressStyleModel",
            "_view_count": null,
            "_view_module": "@jupyter-widgets/base",
            "_view_module_version": "1.2.0",
            "_view_name": "StyleView",
            "bar_color": null,
            "description_width": ""
          }
        },
        "aec4cf304bd34a849f111083f69a78e2": {
          "model_module": "@jupyter-widgets/controls",
          "model_module_version": "1.5.0",
          "model_name": "HTMLModel",
          "state": {
            "_dom_classes": [],
            "_model_module": "@jupyter-widgets/controls",
            "_model_module_version": "1.5.0",
            "_model_name": "HTMLModel",
            "_view_count": null,
            "_view_module": "@jupyter-widgets/controls",
            "_view_module_version": "1.5.0",
            "_view_name": "HTMLView",
            "description": "",
            "description_tooltip": null,
            "layout": "IPY_MODEL_9a42202b462040eea569fa503bdca6f5",
            "placeholder": "​",
            "style": "IPY_MODEL_f864dffb33ba42b0ac3719a2c4f9727d",
            "value": "open_clip_model.safetensors: 100%"
          }
        },
        "b05c32bd57164c24b3e833a92301bd21": {
          "model_module": "@jupyter-widgets/controls",
          "model_module_version": "1.5.0",
          "model_name": "DescriptionStyleModel",
          "state": {
            "_model_module": "@jupyter-widgets/controls",
            "_model_module_version": "1.5.0",
            "_model_name": "DescriptionStyleModel",
            "_view_count": null,
            "_view_module": "@jupyter-widgets/base",
            "_view_module_version": "1.2.0",
            "_view_name": "StyleView",
            "description_width": ""
          }
        },
        "b75bd4db343549f0829cc0f713237087": {
          "model_module": "@jupyter-widgets/base",
          "model_module_version": "1.2.0",
          "model_name": "LayoutModel",
          "state": {
            "_model_module": "@jupyter-widgets/base",
            "_model_module_version": "1.2.0",
            "_model_name": "LayoutModel",
            "_view_count": null,
            "_view_module": "@jupyter-widgets/base",
            "_view_module_version": "1.2.0",
            "_view_name": "LayoutView",
            "align_content": null,
            "align_items": null,
            "align_self": null,
            "border": null,
            "bottom": null,
            "display": null,
            "flex": null,
            "flex_flow": null,
            "grid_area": null,
            "grid_auto_columns": null,
            "grid_auto_flow": null,
            "grid_auto_rows": null,
            "grid_column": null,
            "grid_gap": null,
            "grid_row": null,
            "grid_template_areas": null,
            "grid_template_columns": null,
            "grid_template_rows": null,
            "height": null,
            "justify_content": null,
            "justify_items": null,
            "left": null,
            "margin": null,
            "max_height": null,
            "max_width": null,
            "min_height": null,
            "min_width": null,
            "object_fit": null,
            "object_position": null,
            "order": null,
            "overflow": null,
            "overflow_x": null,
            "overflow_y": null,
            "padding": null,
            "right": null,
            "top": null,
            "visibility": null,
            "width": null
          }
        },
        "c3592de3ae5546a8ac2d0d87ac039f50": {
          "model_module": "@jupyter-widgets/controls",
          "model_module_version": "1.5.0",
          "model_name": "ProgressStyleModel",
          "state": {
            "_model_module": "@jupyter-widgets/controls",
            "_model_module_version": "1.5.0",
            "_model_name": "ProgressStyleModel",
            "_view_count": null,
            "_view_module": "@jupyter-widgets/base",
            "_view_module_version": "1.2.0",
            "_view_name": "StyleView",
            "bar_color": null,
            "description_width": ""
          }
        },
        "c62fe47f72824196af390b44b168b073": {
          "model_module": "@jupyter-widgets/controls",
          "model_module_version": "1.5.0",
          "model_name": "HTMLModel",
          "state": {
            "_dom_classes": [],
            "_model_module": "@jupyter-widgets/controls",
            "_model_module_version": "1.5.0",
            "_model_name": "HTMLModel",
            "_view_count": null,
            "_view_module": "@jupyter-widgets/controls",
            "_view_module_version": "1.5.0",
            "_view_name": "HTMLView",
            "description": "",
            "description_tooltip": null,
            "layout": "IPY_MODEL_4b7c48de718948289b0e018dba94ce3e",
            "placeholder": "​",
            "style": "IPY_MODEL_5c3dc34448944b7da48fcdd30da6048c",
            "value": " 605M/605M [00:08&lt;00:00, 80.1MB/s]"
          }
        },
        "d05e2a6ade68417191a3343dbd0dc5a8": {
          "model_module": "@jupyter-widgets/controls",
          "model_module_version": "1.5.0",
          "model_name": "HBoxModel",
          "state": {
            "_dom_classes": [],
            "_model_module": "@jupyter-widgets/controls",
            "_model_module_version": "1.5.0",
            "_model_name": "HBoxModel",
            "_view_count": null,
            "_view_module": "@jupyter-widgets/controls",
            "_view_module_version": "1.5.0",
            "_view_name": "HBoxView",
            "box_style": "",
            "children": [
              "IPY_MODEL_aec4cf304bd34a849f111083f69a78e2",
              "IPY_MODEL_f5a5359b4e8548978e560d5b5380245a",
              "IPY_MODEL_2f12eef3f55b4e2a98e9101aa92d2d8b"
            ],
            "layout": "IPY_MODEL_f037b85e886949e1b314ca31a1d6072e"
          }
        },
        "d64be04a71084125951a21b1fafe852d": {
          "model_module": "@jupyter-widgets/base",
          "model_module_version": "1.2.0",
          "model_name": "LayoutModel",
          "state": {
            "_model_module": "@jupyter-widgets/base",
            "_model_module_version": "1.2.0",
            "_model_name": "LayoutModel",
            "_view_count": null,
            "_view_module": "@jupyter-widgets/base",
            "_view_module_version": "1.2.0",
            "_view_name": "LayoutView",
            "align_content": null,
            "align_items": null,
            "align_self": null,
            "border": null,
            "bottom": null,
            "display": null,
            "flex": null,
            "flex_flow": null,
            "grid_area": null,
            "grid_auto_columns": null,
            "grid_auto_flow": null,
            "grid_auto_rows": null,
            "grid_column": null,
            "grid_gap": null,
            "grid_row": null,
            "grid_template_areas": null,
            "grid_template_columns": null,
            "grid_template_rows": null,
            "height": null,
            "justify_content": null,
            "justify_items": null,
            "left": null,
            "margin": null,
            "max_height": null,
            "max_width": null,
            "min_height": null,
            "min_width": null,
            "object_fit": null,
            "object_position": null,
            "order": null,
            "overflow": null,
            "overflow_x": null,
            "overflow_y": null,
            "padding": null,
            "right": null,
            "top": null,
            "visibility": null,
            "width": null
          }
        },
        "ded9a7149ab14973af2aa75c1aeb31ad": {
          "model_module": "@jupyter-widgets/base",
          "model_module_version": "1.2.0",
          "model_name": "LayoutModel",
          "state": {
            "_model_module": "@jupyter-widgets/base",
            "_model_module_version": "1.2.0",
            "_model_name": "LayoutModel",
            "_view_count": null,
            "_view_module": "@jupyter-widgets/base",
            "_view_module_version": "1.2.0",
            "_view_name": "LayoutView",
            "align_content": null,
            "align_items": null,
            "align_self": null,
            "border": null,
            "bottom": null,
            "display": null,
            "flex": null,
            "flex_flow": null,
            "grid_area": null,
            "grid_auto_columns": null,
            "grid_auto_flow": null,
            "grid_auto_rows": null,
            "grid_column": null,
            "grid_gap": null,
            "grid_row": null,
            "grid_template_areas": null,
            "grid_template_columns": null,
            "grid_template_rows": null,
            "height": null,
            "justify_content": null,
            "justify_items": null,
            "left": null,
            "margin": null,
            "max_height": null,
            "max_width": null,
            "min_height": null,
            "min_width": null,
            "object_fit": null,
            "object_position": null,
            "order": null,
            "overflow": null,
            "overflow_x": null,
            "overflow_y": null,
            "padding": null,
            "right": null,
            "top": null,
            "visibility": null,
            "width": null
          }
        },
        "eea069233b0f4c71b0309ca5a940dfa6": {
          "model_module": "@jupyter-widgets/base",
          "model_module_version": "1.2.0",
          "model_name": "LayoutModel",
          "state": {
            "_model_module": "@jupyter-widgets/base",
            "_model_module_version": "1.2.0",
            "_model_name": "LayoutModel",
            "_view_count": null,
            "_view_module": "@jupyter-widgets/base",
            "_view_module_version": "1.2.0",
            "_view_name": "LayoutView",
            "align_content": null,
            "align_items": null,
            "align_self": null,
            "border": null,
            "bottom": null,
            "display": null,
            "flex": null,
            "flex_flow": null,
            "grid_area": null,
            "grid_auto_columns": null,
            "grid_auto_flow": null,
            "grid_auto_rows": null,
            "grid_column": null,
            "grid_gap": null,
            "grid_row": null,
            "grid_template_areas": null,
            "grid_template_columns": null,
            "grid_template_rows": null,
            "height": null,
            "justify_content": null,
            "justify_items": null,
            "left": null,
            "margin": null,
            "max_height": null,
            "max_width": null,
            "min_height": null,
            "min_width": null,
            "object_fit": null,
            "object_position": null,
            "order": null,
            "overflow": null,
            "overflow_x": null,
            "overflow_y": null,
            "padding": null,
            "right": null,
            "top": null,
            "visibility": null,
            "width": null
          }
        },
        "f037b85e886949e1b314ca31a1d6072e": {
          "model_module": "@jupyter-widgets/base",
          "model_module_version": "1.2.0",
          "model_name": "LayoutModel",
          "state": {
            "_model_module": "@jupyter-widgets/base",
            "_model_module_version": "1.2.0",
            "_model_name": "LayoutModel",
            "_view_count": null,
            "_view_module": "@jupyter-widgets/base",
            "_view_module_version": "1.2.0",
            "_view_name": "LayoutView",
            "align_content": null,
            "align_items": null,
            "align_self": null,
            "border": null,
            "bottom": null,
            "display": null,
            "flex": null,
            "flex_flow": null,
            "grid_area": null,
            "grid_auto_columns": null,
            "grid_auto_flow": null,
            "grid_auto_rows": null,
            "grid_column": null,
            "grid_gap": null,
            "grid_row": null,
            "grid_template_areas": null,
            "grid_template_columns": null,
            "grid_template_rows": null,
            "height": null,
            "justify_content": null,
            "justify_items": null,
            "left": null,
            "margin": null,
            "max_height": null,
            "max_width": null,
            "min_height": null,
            "min_width": null,
            "object_fit": null,
            "object_position": null,
            "order": null,
            "overflow": null,
            "overflow_x": null,
            "overflow_y": null,
            "padding": null,
            "right": null,
            "top": null,
            "visibility": null,
            "width": null
          }
        },
        "f3110d5594dd489ab5fccebac96e32a7": {
          "model_module": "@jupyter-widgets/controls",
          "model_module_version": "1.5.0",
          "model_name": "DescriptionStyleModel",
          "state": {
            "_model_module": "@jupyter-widgets/controls",
            "_model_module_version": "1.5.0",
            "_model_name": "DescriptionStyleModel",
            "_view_count": null,
            "_view_module": "@jupyter-widgets/base",
            "_view_module_version": "1.2.0",
            "_view_name": "StyleView",
            "description_width": ""
          }
        },
        "f5a5359b4e8548978e560d5b5380245a": {
          "model_module": "@jupyter-widgets/controls",
          "model_module_version": "1.5.0",
          "model_name": "FloatProgressModel",
          "state": {
            "_dom_classes": [],
            "_model_module": "@jupyter-widgets/controls",
            "_model_module_version": "1.5.0",
            "_model_name": "FloatProgressModel",
            "_view_count": null,
            "_view_module": "@jupyter-widgets/controls",
            "_view_module_version": "1.5.0",
            "_view_name": "ProgressView",
            "bar_style": "success",
            "description": "",
            "description_tooltip": null,
            "layout": "IPY_MODEL_059866ebe96d4544b6f8f4182c75a002",
            "max": 717597010,
            "min": 0,
            "orientation": "horizontal",
            "style": "IPY_MODEL_aa0f36b509b5437daf8e6ef636693d77",
            "value": 717597010
          }
        },
        "f68a61a1e5e34d7c85d4183e88459152": {
          "model_module": "@jupyter-widgets/controls",
          "model_module_version": "1.5.0",
          "model_name": "FloatProgressModel",
          "state": {
            "_dom_classes": [],
            "_model_module": "@jupyter-widgets/controls",
            "_model_module_version": "1.5.0",
            "_model_name": "FloatProgressModel",
            "_view_count": null,
            "_view_module": "@jupyter-widgets/controls",
            "_view_module_version": "1.5.0",
            "_view_name": "ProgressView",
            "bar_style": "success",
            "description": "",
            "description_tooltip": null,
            "layout": "IPY_MODEL_d64be04a71084125951a21b1fafe852d",
            "max": 605143284,
            "min": 0,
            "orientation": "horizontal",
            "style": "IPY_MODEL_c3592de3ae5546a8ac2d0d87ac039f50",
            "value": 605143284
          }
        },
        "f864dffb33ba42b0ac3719a2c4f9727d": {
          "model_module": "@jupyter-widgets/controls",
          "model_module_version": "1.5.0",
          "model_name": "DescriptionStyleModel",
          "state": {
            "_model_module": "@jupyter-widgets/controls",
            "_model_module_version": "1.5.0",
            "_model_name": "DescriptionStyleModel",
            "_view_count": null,
            "_view_module": "@jupyter-widgets/base",
            "_view_module_version": "1.2.0",
            "_view_name": "StyleView",
            "description_width": ""
          }
        }
      }
    }
  },
  "nbformat": 4,
  "nbformat_minor": 0
}
